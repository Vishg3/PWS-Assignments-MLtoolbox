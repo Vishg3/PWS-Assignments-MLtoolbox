{
 "cells": [
  {
   "cell_type": "markdown",
   "id": "d4038c90-6c21-45d6-b442-17cf002a96ed",
   "metadata": {},
   "source": [
    "# Assignment - EDA Assignment 2 - Amazon"
   ]
  },
  {
   "cell_type": "code",
   "execution_count": 1,
   "id": "fd5b1465-64dd-4232-a861-179bf2057a03",
   "metadata": {},
   "outputs": [],
   "source": [
    "import numpy as np\n",
    "import pandas as pd\n",
    "import matplotlib.pyplot as plt\n",
    "import seaborn as sns\n",
    "\n",
    "%matplotlib inline"
   ]
  },
  {
   "cell_type": "code",
   "execution_count": 2,
   "id": "196d8cc8-e8fe-4ae1-b26f-12c92ee5f1d0",
   "metadata": {},
   "outputs": [],
   "source": [
    "df=pd.read_csv('amazon.csv')"
   ]
  },
  {
   "cell_type": "code",
   "execution_count": 3,
   "id": "9d2a1a39-2d2b-4539-b92b-8490bac7163e",
   "metadata": {},
   "outputs": [
    {
     "data": {
      "text/html": [
       "<div>\n",
       "<style scoped>\n",
       "    .dataframe tbody tr th:only-of-type {\n",
       "        vertical-align: middle;\n",
       "    }\n",
       "\n",
       "    .dataframe tbody tr th {\n",
       "        vertical-align: top;\n",
       "    }\n",
       "\n",
       "    .dataframe thead th {\n",
       "        text-align: right;\n",
       "    }\n",
       "</style>\n",
       "<table border=\"1\" class=\"dataframe\">\n",
       "  <thead>\n",
       "    <tr style=\"text-align: right;\">\n",
       "      <th></th>\n",
       "      <th>product_id</th>\n",
       "      <th>product_name</th>\n",
       "      <th>category</th>\n",
       "      <th>discounted_price</th>\n",
       "      <th>actual_price</th>\n",
       "      <th>discount_percentage</th>\n",
       "      <th>rating</th>\n",
       "      <th>rating_count</th>\n",
       "      <th>about_product</th>\n",
       "      <th>user_id</th>\n",
       "      <th>user_name</th>\n",
       "      <th>review_id</th>\n",
       "      <th>review_title</th>\n",
       "      <th>review_content</th>\n",
       "      <th>img_link</th>\n",
       "      <th>product_link</th>\n",
       "    </tr>\n",
       "  </thead>\n",
       "  <tbody>\n",
       "    <tr>\n",
       "      <th>0</th>\n",
       "      <td>B07JW9H4J1</td>\n",
       "      <td>Wayona Nylon Braided USB to Lightning Fast Cha...</td>\n",
       "      <td>Computers&amp;Accessories|Accessories&amp;Peripherals|...</td>\n",
       "      <td>₹399</td>\n",
       "      <td>₹1,099</td>\n",
       "      <td>64%</td>\n",
       "      <td>4.2</td>\n",
       "      <td>24,269</td>\n",
       "      <td>High Compatibility : Compatible With iPhone 12...</td>\n",
       "      <td>AG3D6O4STAQKAY2UVGEUV46KN35Q,AHMY5CWJMMK5BJRBB...</td>\n",
       "      <td>Manav,Adarsh gupta,Sundeep,S.Sayeed Ahmed,jasp...</td>\n",
       "      <td>R3HXWT0LRP0NMF,R2AJM3LFTLZHFO,R6AQJGUP6P86,R1K...</td>\n",
       "      <td>Satisfied,Charging is really fast,Value for mo...</td>\n",
       "      <td>Looks durable Charging is fine tooNo complains...</td>\n",
       "      <td>https://m.media-amazon.com/images/W/WEBP_40237...</td>\n",
       "      <td>https://www.amazon.in/Wayona-Braided-WN3LG1-Sy...</td>\n",
       "    </tr>\n",
       "    <tr>\n",
       "      <th>1</th>\n",
       "      <td>B098NS6PVG</td>\n",
       "      <td>Ambrane Unbreakable 60W / 3A Fast Charging 1.5...</td>\n",
       "      <td>Computers&amp;Accessories|Accessories&amp;Peripherals|...</td>\n",
       "      <td>₹199</td>\n",
       "      <td>₹349</td>\n",
       "      <td>43%</td>\n",
       "      <td>4.0</td>\n",
       "      <td>43,994</td>\n",
       "      <td>Compatible with all Type C enabled devices, be...</td>\n",
       "      <td>AECPFYFQVRUWC3KGNLJIOREFP5LQ,AGYYVPDD7YG7FYNBX...</td>\n",
       "      <td>ArdKn,Nirbhay kumar,Sagar Viswanathan,Asp,Plac...</td>\n",
       "      <td>RGIQEG07R9HS2,R1SMWZQ86XIN8U,R2J3Y1WL29GWDE,RY...</td>\n",
       "      <td>A Good Braided Cable for Your Type C Device,Go...</td>\n",
       "      <td>I ordered this cable to connect my phone to An...</td>\n",
       "      <td>https://m.media-amazon.com/images/W/WEBP_40237...</td>\n",
       "      <td>https://www.amazon.in/Ambrane-Unbreakable-Char...</td>\n",
       "    </tr>\n",
       "    <tr>\n",
       "      <th>2</th>\n",
       "      <td>B096MSW6CT</td>\n",
       "      <td>Sounce Fast Phone Charging Cable &amp; Data Sync U...</td>\n",
       "      <td>Computers&amp;Accessories|Accessories&amp;Peripherals|...</td>\n",
       "      <td>₹199</td>\n",
       "      <td>₹1,899</td>\n",
       "      <td>90%</td>\n",
       "      <td>3.9</td>\n",
       "      <td>7,928</td>\n",
       "      <td>【 Fast Charger&amp; Data Sync】-With built-in safet...</td>\n",
       "      <td>AGU3BBQ2V2DDAMOAKGFAWDDQ6QHA,AESFLDV2PT363T2AQ...</td>\n",
       "      <td>Kunal,Himanshu,viswanath,sai niharka,saqib mal...</td>\n",
       "      <td>R3J3EQQ9TZI5ZJ,R3E7WBGK7ID0KV,RWU79XKQ6I1QF,R2...</td>\n",
       "      <td>Good speed for earlier versions,Good Product,W...</td>\n",
       "      <td>Not quite durable and sturdy,https://m.media-a...</td>\n",
       "      <td>https://m.media-amazon.com/images/W/WEBP_40237...</td>\n",
       "      <td>https://www.amazon.in/Sounce-iPhone-Charging-C...</td>\n",
       "    </tr>\n",
       "    <tr>\n",
       "      <th>3</th>\n",
       "      <td>B08HDJ86NZ</td>\n",
       "      <td>boAt Deuce USB 300 2 in 1 Type-C &amp; Micro USB S...</td>\n",
       "      <td>Computers&amp;Accessories|Accessories&amp;Peripherals|...</td>\n",
       "      <td>₹329</td>\n",
       "      <td>₹699</td>\n",
       "      <td>53%</td>\n",
       "      <td>4.2</td>\n",
       "      <td>94,363</td>\n",
       "      <td>The boAt Deuce USB 300 2 in 1 cable is compati...</td>\n",
       "      <td>AEWAZDZZJLQUYVOVGBEUKSLXHQ5A,AG5HTSFRRE6NL3M5S...</td>\n",
       "      <td>Omkar dhale,JD,HEMALATHA,Ajwadh a.,amar singh ...</td>\n",
       "      <td>R3EEUZKKK9J36I,R3HJVYCLYOY554,REDECAZ7AMPQC,R1...</td>\n",
       "      <td>Good product,Good one,Nice,Really nice product...</td>\n",
       "      <td>Good product,long wire,Charges good,Nice,I bou...</td>\n",
       "      <td>https://m.media-amazon.com/images/I/41V5FtEWPk...</td>\n",
       "      <td>https://www.amazon.in/Deuce-300-Resistant-Tang...</td>\n",
       "    </tr>\n",
       "    <tr>\n",
       "      <th>4</th>\n",
       "      <td>B08CF3B7N1</td>\n",
       "      <td>Portronics Konnect L 1.2M Fast Charging 3A 8 P...</td>\n",
       "      <td>Computers&amp;Accessories|Accessories&amp;Peripherals|...</td>\n",
       "      <td>₹154</td>\n",
       "      <td>₹399</td>\n",
       "      <td>61%</td>\n",
       "      <td>4.2</td>\n",
       "      <td>16,905</td>\n",
       "      <td>[CHARGE &amp; SYNC FUNCTION]- This cable comes wit...</td>\n",
       "      <td>AE3Q6KSUK5P75D5HFYHCRAOLODSA,AFUGIFH5ZAFXRDSZH...</td>\n",
       "      <td>rahuls6099,Swasat Borah,Ajay Wadke,Pranali,RVK...</td>\n",
       "      <td>R1BP4L2HH9TFUP,R16PVJEXKV6QZS,R2UPDB81N66T4P,R...</td>\n",
       "      <td>As good as original,Decent,Good one for second...</td>\n",
       "      <td>Bought this instead of original apple, does th...</td>\n",
       "      <td>https://m.media-amazon.com/images/W/WEBP_40237...</td>\n",
       "      <td>https://www.amazon.in/Portronics-Konnect-POR-1...</td>\n",
       "    </tr>\n",
       "  </tbody>\n",
       "</table>\n",
       "</div>"
      ],
      "text/plain": [
       "   product_id                                       product_name  \\\n",
       "0  B07JW9H4J1  Wayona Nylon Braided USB to Lightning Fast Cha...   \n",
       "1  B098NS6PVG  Ambrane Unbreakable 60W / 3A Fast Charging 1.5...   \n",
       "2  B096MSW6CT  Sounce Fast Phone Charging Cable & Data Sync U...   \n",
       "3  B08HDJ86NZ  boAt Deuce USB 300 2 in 1 Type-C & Micro USB S...   \n",
       "4  B08CF3B7N1  Portronics Konnect L 1.2M Fast Charging 3A 8 P...   \n",
       "\n",
       "                                            category discounted_price  \\\n",
       "0  Computers&Accessories|Accessories&Peripherals|...             ₹399   \n",
       "1  Computers&Accessories|Accessories&Peripherals|...             ₹199   \n",
       "2  Computers&Accessories|Accessories&Peripherals|...             ₹199   \n",
       "3  Computers&Accessories|Accessories&Peripherals|...             ₹329   \n",
       "4  Computers&Accessories|Accessories&Peripherals|...             ₹154   \n",
       "\n",
       "  actual_price discount_percentage rating rating_count  \\\n",
       "0       ₹1,099                 64%    4.2       24,269   \n",
       "1         ₹349                 43%    4.0       43,994   \n",
       "2       ₹1,899                 90%    3.9        7,928   \n",
       "3         ₹699                 53%    4.2       94,363   \n",
       "4         ₹399                 61%    4.2       16,905   \n",
       "\n",
       "                                       about_product  \\\n",
       "0  High Compatibility : Compatible With iPhone 12...   \n",
       "1  Compatible with all Type C enabled devices, be...   \n",
       "2  【 Fast Charger& Data Sync】-With built-in safet...   \n",
       "3  The boAt Deuce USB 300 2 in 1 cable is compati...   \n",
       "4  [CHARGE & SYNC FUNCTION]- This cable comes wit...   \n",
       "\n",
       "                                             user_id  \\\n",
       "0  AG3D6O4STAQKAY2UVGEUV46KN35Q,AHMY5CWJMMK5BJRBB...   \n",
       "1  AECPFYFQVRUWC3KGNLJIOREFP5LQ,AGYYVPDD7YG7FYNBX...   \n",
       "2  AGU3BBQ2V2DDAMOAKGFAWDDQ6QHA,AESFLDV2PT363T2AQ...   \n",
       "3  AEWAZDZZJLQUYVOVGBEUKSLXHQ5A,AG5HTSFRRE6NL3M5S...   \n",
       "4  AE3Q6KSUK5P75D5HFYHCRAOLODSA,AFUGIFH5ZAFXRDSZH...   \n",
       "\n",
       "                                           user_name  \\\n",
       "0  Manav,Adarsh gupta,Sundeep,S.Sayeed Ahmed,jasp...   \n",
       "1  ArdKn,Nirbhay kumar,Sagar Viswanathan,Asp,Plac...   \n",
       "2  Kunal,Himanshu,viswanath,sai niharka,saqib mal...   \n",
       "3  Omkar dhale,JD,HEMALATHA,Ajwadh a.,amar singh ...   \n",
       "4  rahuls6099,Swasat Borah,Ajay Wadke,Pranali,RVK...   \n",
       "\n",
       "                                           review_id  \\\n",
       "0  R3HXWT0LRP0NMF,R2AJM3LFTLZHFO,R6AQJGUP6P86,R1K...   \n",
       "1  RGIQEG07R9HS2,R1SMWZQ86XIN8U,R2J3Y1WL29GWDE,RY...   \n",
       "2  R3J3EQQ9TZI5ZJ,R3E7WBGK7ID0KV,RWU79XKQ6I1QF,R2...   \n",
       "3  R3EEUZKKK9J36I,R3HJVYCLYOY554,REDECAZ7AMPQC,R1...   \n",
       "4  R1BP4L2HH9TFUP,R16PVJEXKV6QZS,R2UPDB81N66T4P,R...   \n",
       "\n",
       "                                        review_title  \\\n",
       "0  Satisfied,Charging is really fast,Value for mo...   \n",
       "1  A Good Braided Cable for Your Type C Device,Go...   \n",
       "2  Good speed for earlier versions,Good Product,W...   \n",
       "3  Good product,Good one,Nice,Really nice product...   \n",
       "4  As good as original,Decent,Good one for second...   \n",
       "\n",
       "                                      review_content  \\\n",
       "0  Looks durable Charging is fine tooNo complains...   \n",
       "1  I ordered this cable to connect my phone to An...   \n",
       "2  Not quite durable and sturdy,https://m.media-a...   \n",
       "3  Good product,long wire,Charges good,Nice,I bou...   \n",
       "4  Bought this instead of original apple, does th...   \n",
       "\n",
       "                                            img_link  \\\n",
       "0  https://m.media-amazon.com/images/W/WEBP_40237...   \n",
       "1  https://m.media-amazon.com/images/W/WEBP_40237...   \n",
       "2  https://m.media-amazon.com/images/W/WEBP_40237...   \n",
       "3  https://m.media-amazon.com/images/I/41V5FtEWPk...   \n",
       "4  https://m.media-amazon.com/images/W/WEBP_40237...   \n",
       "\n",
       "                                        product_link  \n",
       "0  https://www.amazon.in/Wayona-Braided-WN3LG1-Sy...  \n",
       "1  https://www.amazon.in/Ambrane-Unbreakable-Char...  \n",
       "2  https://www.amazon.in/Sounce-iPhone-Charging-C...  \n",
       "3  https://www.amazon.in/Deuce-300-Resistant-Tang...  \n",
       "4  https://www.amazon.in/Portronics-Konnect-POR-1...  "
      ]
     },
     "execution_count": 3,
     "metadata": {},
     "output_type": "execute_result"
    }
   ],
   "source": [
    "df.head()"
   ]
  },
  {
   "cell_type": "code",
   "execution_count": 4,
   "id": "cb19a9d9-0d2c-4984-a0cf-4e469a355ffd",
   "metadata": {},
   "outputs": [
    {
     "data": {
      "text/plain": [
       "(1465, 16)"
      ]
     },
     "execution_count": 4,
     "metadata": {},
     "output_type": "execute_result"
    }
   ],
   "source": [
    "df.shape"
   ]
  },
  {
   "cell_type": "code",
   "execution_count": 5,
   "id": "1dd13b5f-73f6-4ff2-9413-156847fd25a6",
   "metadata": {},
   "outputs": [
    {
     "data": {
      "text/plain": [
       "product_id             object\n",
       "product_name           object\n",
       "category               object\n",
       "discounted_price       object\n",
       "actual_price           object\n",
       "discount_percentage    object\n",
       "rating                 object\n",
       "rating_count           object\n",
       "about_product          object\n",
       "user_id                object\n",
       "user_name              object\n",
       "review_id              object\n",
       "review_title           object\n",
       "review_content         object\n",
       "img_link               object\n",
       "product_link           object\n",
       "dtype: object"
      ]
     },
     "execution_count": 5,
     "metadata": {},
     "output_type": "execute_result"
    }
   ],
   "source": [
    "df.dtypes"
   ]
  },
  {
   "cell_type": "code",
   "execution_count": 6,
   "id": "841ae299-24ce-4dad-a2be-fb6380ddf049",
   "metadata": {},
   "outputs": [
    {
     "name": "stdout",
     "output_type": "stream",
     "text": [
      "<class 'pandas.core.frame.DataFrame'>\n",
      "RangeIndex: 1465 entries, 0 to 1464\n",
      "Data columns (total 16 columns):\n",
      " #   Column               Non-Null Count  Dtype \n",
      "---  ------               --------------  ----- \n",
      " 0   product_id           1465 non-null   object\n",
      " 1   product_name         1465 non-null   object\n",
      " 2   category             1465 non-null   object\n",
      " 3   discounted_price     1465 non-null   object\n",
      " 4   actual_price         1465 non-null   object\n",
      " 5   discount_percentage  1465 non-null   object\n",
      " 6   rating               1465 non-null   object\n",
      " 7   rating_count         1463 non-null   object\n",
      " 8   about_product        1465 non-null   object\n",
      " 9   user_id              1465 non-null   object\n",
      " 10  user_name            1465 non-null   object\n",
      " 11  review_id            1465 non-null   object\n",
      " 12  review_title         1465 non-null   object\n",
      " 13  review_content       1465 non-null   object\n",
      " 14  img_link             1465 non-null   object\n",
      " 15  product_link         1465 non-null   object\n",
      "dtypes: object(16)\n",
      "memory usage: 183.3+ KB\n"
     ]
    }
   ],
   "source": [
    "df.info()"
   ]
  },
  {
   "cell_type": "code",
   "execution_count": 7,
   "id": "2b6a9616-65b5-4ac8-89df-a958597b1108",
   "metadata": {},
   "outputs": [
    {
     "data": {
      "text/plain": [
       "product_id             0\n",
       "product_name           0\n",
       "category               0\n",
       "discounted_price       0\n",
       "actual_price           0\n",
       "discount_percentage    0\n",
       "rating                 0\n",
       "rating_count           2\n",
       "about_product          0\n",
       "user_id                0\n",
       "user_name              0\n",
       "review_id              0\n",
       "review_title           0\n",
       "review_content         0\n",
       "img_link               0\n",
       "product_link           0\n",
       "dtype: int64"
      ]
     },
     "execution_count": 7,
     "metadata": {},
     "output_type": "execute_result"
    }
   ],
   "source": [
    "df.isnull().sum()"
   ]
  },
  {
   "cell_type": "code",
   "execution_count": 8,
   "id": "5f57e2c7-4955-430f-8b51-dab048c2de80",
   "metadata": {},
   "outputs": [
    {
     "data": {
      "text/plain": [
       "0"
      ]
     },
     "execution_count": 8,
     "metadata": {},
     "output_type": "execute_result"
    }
   ],
   "source": [
    "df.duplicated().sum()"
   ]
  },
  {
   "cell_type": "code",
   "execution_count": 9,
   "id": "dfa11593-ee52-451d-bfbd-5ccbc9ef08a3",
   "metadata": {},
   "outputs": [
    {
     "data": {
      "text/html": [
       "<div>\n",
       "<style scoped>\n",
       "    .dataframe tbody tr th:only-of-type {\n",
       "        vertical-align: middle;\n",
       "    }\n",
       "\n",
       "    .dataframe tbody tr th {\n",
       "        vertical-align: top;\n",
       "    }\n",
       "\n",
       "    .dataframe thead th {\n",
       "        text-align: right;\n",
       "    }\n",
       "</style>\n",
       "<table border=\"1\" class=\"dataframe\">\n",
       "  <thead>\n",
       "    <tr style=\"text-align: right;\">\n",
       "      <th></th>\n",
       "      <th>product_id</th>\n",
       "      <th>product_name</th>\n",
       "      <th>category</th>\n",
       "      <th>discounted_price</th>\n",
       "      <th>actual_price</th>\n",
       "      <th>discount_percentage</th>\n",
       "      <th>rating</th>\n",
       "      <th>rating_count</th>\n",
       "      <th>about_product</th>\n",
       "      <th>user_id</th>\n",
       "      <th>user_name</th>\n",
       "      <th>review_id</th>\n",
       "      <th>review_title</th>\n",
       "      <th>review_content</th>\n",
       "      <th>img_link</th>\n",
       "      <th>product_link</th>\n",
       "    </tr>\n",
       "  </thead>\n",
       "  <tbody>\n",
       "    <tr>\n",
       "      <th>count</th>\n",
       "      <td>1465</td>\n",
       "      <td>1465</td>\n",
       "      <td>1465</td>\n",
       "      <td>1465</td>\n",
       "      <td>1465</td>\n",
       "      <td>1465</td>\n",
       "      <td>1465</td>\n",
       "      <td>1463</td>\n",
       "      <td>1465</td>\n",
       "      <td>1465</td>\n",
       "      <td>1465</td>\n",
       "      <td>1465</td>\n",
       "      <td>1465</td>\n",
       "      <td>1465</td>\n",
       "      <td>1465</td>\n",
       "      <td>1465</td>\n",
       "    </tr>\n",
       "    <tr>\n",
       "      <th>unique</th>\n",
       "      <td>1351</td>\n",
       "      <td>1337</td>\n",
       "      <td>211</td>\n",
       "      <td>550</td>\n",
       "      <td>449</td>\n",
       "      <td>92</td>\n",
       "      <td>28</td>\n",
       "      <td>1143</td>\n",
       "      <td>1293</td>\n",
       "      <td>1194</td>\n",
       "      <td>1194</td>\n",
       "      <td>1194</td>\n",
       "      <td>1194</td>\n",
       "      <td>1212</td>\n",
       "      <td>1412</td>\n",
       "      <td>1465</td>\n",
       "    </tr>\n",
       "    <tr>\n",
       "      <th>top</th>\n",
       "      <td>B07JW9H4J1</td>\n",
       "      <td>Fire-Boltt Ninja Call Pro Plus 1.83\" Smart Wat...</td>\n",
       "      <td>Computers&amp;Accessories|Accessories&amp;Peripherals|...</td>\n",
       "      <td>₹199</td>\n",
       "      <td>₹999</td>\n",
       "      <td>50%</td>\n",
       "      <td>4.1</td>\n",
       "      <td>9,378</td>\n",
       "      <td>[CHARGE &amp; SYNC FUNCTION]- This cable comes wit...</td>\n",
       "      <td>AHIKJUDTVJ4T6DV6IUGFYZ5LXMPA,AE55KTFVNXYFD5FPY...</td>\n",
       "      <td>$@|\\|TO$|-|,Sethu madhav,Akash Thakur,Burger P...</td>\n",
       "      <td>R3F4T5TRYPTMIG,R3DQIEC603E7AY,R1O4Z15FD40PV5,R...</td>\n",
       "      <td>Worked on iPhone 7 and didn’t work on XR,Good ...</td>\n",
       "      <td>I am not big on camera usage, personally. I wa...</td>\n",
       "      <td>https://m.media-amazon.com/images/I/413sCRKobN...</td>\n",
       "      <td>https://www.amazon.in/Wayona-Braided-WN3LG1-Sy...</td>\n",
       "    </tr>\n",
       "    <tr>\n",
       "      <th>freq</th>\n",
       "      <td>3</td>\n",
       "      <td>5</td>\n",
       "      <td>233</td>\n",
       "      <td>53</td>\n",
       "      <td>120</td>\n",
       "      <td>56</td>\n",
       "      <td>244</td>\n",
       "      <td>9</td>\n",
       "      <td>6</td>\n",
       "      <td>10</td>\n",
       "      <td>10</td>\n",
       "      <td>10</td>\n",
       "      <td>10</td>\n",
       "      <td>8</td>\n",
       "      <td>3</td>\n",
       "      <td>1</td>\n",
       "    </tr>\n",
       "  </tbody>\n",
       "</table>\n",
       "</div>"
      ],
      "text/plain": [
       "        product_id                                       product_name  \\\n",
       "count         1465                                               1465   \n",
       "unique        1351                                               1337   \n",
       "top     B07JW9H4J1  Fire-Boltt Ninja Call Pro Plus 1.83\" Smart Wat...   \n",
       "freq             3                                                  5   \n",
       "\n",
       "                                                 category discounted_price  \\\n",
       "count                                                1465             1465   \n",
       "unique                                                211              550   \n",
       "top     Computers&Accessories|Accessories&Peripherals|...             ₹199   \n",
       "freq                                                  233               53   \n",
       "\n",
       "       actual_price discount_percentage rating rating_count  \\\n",
       "count          1465                1465   1465         1463   \n",
       "unique          449                  92     28         1143   \n",
       "top            ₹999                 50%    4.1        9,378   \n",
       "freq            120                  56    244            9   \n",
       "\n",
       "                                            about_product  \\\n",
       "count                                                1465   \n",
       "unique                                               1293   \n",
       "top     [CHARGE & SYNC FUNCTION]- This cable comes wit...   \n",
       "freq                                                    6   \n",
       "\n",
       "                                                  user_id  \\\n",
       "count                                                1465   \n",
       "unique                                               1194   \n",
       "top     AHIKJUDTVJ4T6DV6IUGFYZ5LXMPA,AE55KTFVNXYFD5FPY...   \n",
       "freq                                                   10   \n",
       "\n",
       "                                                user_name  \\\n",
       "count                                                1465   \n",
       "unique                                               1194   \n",
       "top     $@|\\|TO$|-|,Sethu madhav,Akash Thakur,Burger P...   \n",
       "freq                                                   10   \n",
       "\n",
       "                                                review_id  \\\n",
       "count                                                1465   \n",
       "unique                                               1194   \n",
       "top     R3F4T5TRYPTMIG,R3DQIEC603E7AY,R1O4Z15FD40PV5,R...   \n",
       "freq                                                   10   \n",
       "\n",
       "                                             review_title  \\\n",
       "count                                                1465   \n",
       "unique                                               1194   \n",
       "top     Worked on iPhone 7 and didn’t work on XR,Good ...   \n",
       "freq                                                   10   \n",
       "\n",
       "                                           review_content  \\\n",
       "count                                                1465   \n",
       "unique                                               1212   \n",
       "top     I am not big on camera usage, personally. I wa...   \n",
       "freq                                                    8   \n",
       "\n",
       "                                                 img_link  \\\n",
       "count                                                1465   \n",
       "unique                                               1412   \n",
       "top     https://m.media-amazon.com/images/I/413sCRKobN...   \n",
       "freq                                                    3   \n",
       "\n",
       "                                             product_link  \n",
       "count                                                1465  \n",
       "unique                                               1465  \n",
       "top     https://www.amazon.in/Wayona-Braided-WN3LG1-Sy...  \n",
       "freq                                                    1  "
      ]
     },
     "execution_count": 9,
     "metadata": {},
     "output_type": "execute_result"
    }
   ],
   "source": [
    "df.describe()"
   ]
  },
  {
   "cell_type": "code",
   "execution_count": 10,
   "id": "0fbf9e70-db34-4a76-a752-1922a5b2f293",
   "metadata": {},
   "outputs": [
    {
     "data": {
      "text/html": [
       "<div>\n",
       "<style scoped>\n",
       "    .dataframe tbody tr th:only-of-type {\n",
       "        vertical-align: middle;\n",
       "    }\n",
       "\n",
       "    .dataframe tbody tr th {\n",
       "        vertical-align: top;\n",
       "    }\n",
       "\n",
       "    .dataframe thead th {\n",
       "        text-align: right;\n",
       "    }\n",
       "</style>\n",
       "<table border=\"1\" class=\"dataframe\">\n",
       "  <thead>\n",
       "    <tr style=\"text-align: right;\">\n",
       "      <th></th>\n",
       "      <th>product_id</th>\n",
       "      <th>product_name</th>\n",
       "      <th>category</th>\n",
       "      <th>discounted_price</th>\n",
       "      <th>actual_price</th>\n",
       "      <th>discount_percentage</th>\n",
       "      <th>rating</th>\n",
       "      <th>rating_count</th>\n",
       "      <th>about_product</th>\n",
       "      <th>user_id</th>\n",
       "      <th>user_name</th>\n",
       "      <th>review_id</th>\n",
       "      <th>review_title</th>\n",
       "      <th>review_content</th>\n",
       "      <th>img_link</th>\n",
       "      <th>product_link</th>\n",
       "    </tr>\n",
       "  </thead>\n",
       "  <tbody>\n",
       "    <tr>\n",
       "      <th>1353</th>\n",
       "      <td>B07TC9F7PN</td>\n",
       "      <td>Racold Eterno Pro 25L Vertical 5 Star Storage ...</td>\n",
       "      <td>Home&amp;Kitchen|Heating,Cooling&amp;AirQuality|WaterH...</td>\n",
       "      <td>₹8,699</td>\n",
       "      <td>₹16,899</td>\n",
       "      <td>49%</td>\n",
       "      <td>4.2</td>\n",
       "      <td>3,195</td>\n",
       "      <td>Titanium Plus Technology: Eterno Pro water hea...</td>\n",
       "      <td>AEZB53KJUQPIRSWWZ2SUY6RRAQBQ,AGSBS2YJLL456NQVC...</td>\n",
       "      <td>Ritu,sudhir ranjan,Rashmi kashyap,Arunabha Muk...</td>\n",
       "      <td>RMAC0LO0EDHO9,R1UZCDEE5WMPNY,R35RTKDU6GUF5G,R1...</td>\n",
       "      <td>Worth money,Average,Morden geyser , very nice,...</td>\n",
       "      <td>Im really satisfied with this geyser im using ...</td>\n",
       "      <td>https://m.media-amazon.com/images/I/31Ex4oSr8R...</td>\n",
       "      <td>https://www.amazon.in/Racold-Eterno-Pro-Vertic...</td>\n",
       "    </tr>\n",
       "    <tr>\n",
       "      <th>802</th>\n",
       "      <td>B00NH11PEY</td>\n",
       "      <td>AmazonBasics USB 2.0 - A-Male to A-Female Exte...</td>\n",
       "      <td>Computers&amp;Accessories|Accessories&amp;Peripherals|...</td>\n",
       "      <td>₹199</td>\n",
       "      <td>₹750</td>\n",
       "      <td>73%</td>\n",
       "      <td>4.5</td>\n",
       "      <td>74,976</td>\n",
       "      <td>One 9.8-foot-long (3 meters) USB 2.0 A-Male to...</td>\n",
       "      <td>AGBX233C7B7D7YZEL7ZLFWMQKFDQ,AFKSU4D3IE4KNDBVV...</td>\n",
       "      <td>Pravin Kumar,Maestrov,rag,Mukundha2good,Amazon...</td>\n",
       "      <td>R1C8MVU3EIX56Y,R10RUXC7JD5S4I,R1AFBZ5PYTHO1Z,R...</td>\n",
       "      <td>Nice,good,Paisa vassol,Sturdy and long.,Good f...</td>\n",
       "      <td>Sufficient length,excellent build quality ,goo...</td>\n",
       "      <td>https://m.media-amazon.com/images/W/WEBP_40237...</td>\n",
       "      <td>https://www.amazon.in/AmazonBasics-Extension-C...</td>\n",
       "    </tr>\n",
       "    <tr>\n",
       "      <th>657</th>\n",
       "      <td>B07RD611Z8</td>\n",
       "      <td>Ambrane 20000mAh Power Bank with 20W Fast Char...</td>\n",
       "      <td>Electronics|Mobiles&amp;Accessories|MobileAccessor...</td>\n",
       "      <td>₹1,799</td>\n",
       "      <td>₹2,499</td>\n",
       "      <td>28%</td>\n",
       "      <td>4.1</td>\n",
       "      <td>18,678</td>\n",
       "      <td>Massive 20000mAh Lithium Polymer capacity allo...</td>\n",
       "      <td>AFAKEZV7KMVT2SGF4KYWXGQRIW4A,AE33MAZWYRVAAICGN...</td>\n",
       "      <td>Vikrant,Ganesh Gholap,⚡ Pushpendra Singh Patel...</td>\n",
       "      <td>R3C219XKJW9GI2,R7KGIU29C0TLL,R3S0UMZSM6FNWM,R3...</td>\n",
       "      <td>Decent Product at about right price.,Seems goo...</td>\n",
       "      <td>I bought this power-bank to use during my vaca...</td>\n",
       "      <td>https://m.media-amazon.com/images/W/WEBP_40237...</td>\n",
       "      <td>https://www.amazon.in/Ambrane-20000mAh-Lithium...</td>\n",
       "    </tr>\n",
       "  </tbody>\n",
       "</table>\n",
       "</div>"
      ],
      "text/plain": [
       "      product_id                                       product_name  \\\n",
       "1353  B07TC9F7PN  Racold Eterno Pro 25L Vertical 5 Star Storage ...   \n",
       "802   B00NH11PEY  AmazonBasics USB 2.0 - A-Male to A-Female Exte...   \n",
       "657   B07RD611Z8  Ambrane 20000mAh Power Bank with 20W Fast Char...   \n",
       "\n",
       "                                               category discounted_price  \\\n",
       "1353  Home&Kitchen|Heating,Cooling&AirQuality|WaterH...           ₹8,699   \n",
       "802   Computers&Accessories|Accessories&Peripherals|...             ₹199   \n",
       "657   Electronics|Mobiles&Accessories|MobileAccessor...           ₹1,799   \n",
       "\n",
       "     actual_price discount_percentage rating rating_count  \\\n",
       "1353      ₹16,899                 49%    4.2        3,195   \n",
       "802          ₹750                 73%    4.5       74,976   \n",
       "657        ₹2,499                 28%    4.1       18,678   \n",
       "\n",
       "                                          about_product  \\\n",
       "1353  Titanium Plus Technology: Eterno Pro water hea...   \n",
       "802   One 9.8-foot-long (3 meters) USB 2.0 A-Male to...   \n",
       "657   Massive 20000mAh Lithium Polymer capacity allo...   \n",
       "\n",
       "                                                user_id  \\\n",
       "1353  AEZB53KJUQPIRSWWZ2SUY6RRAQBQ,AGSBS2YJLL456NQVC...   \n",
       "802   AGBX233C7B7D7YZEL7ZLFWMQKFDQ,AFKSU4D3IE4KNDBVV...   \n",
       "657   AFAKEZV7KMVT2SGF4KYWXGQRIW4A,AE33MAZWYRVAAICGN...   \n",
       "\n",
       "                                              user_name  \\\n",
       "1353  Ritu,sudhir ranjan,Rashmi kashyap,Arunabha Muk...   \n",
       "802   Pravin Kumar,Maestrov,rag,Mukundha2good,Amazon...   \n",
       "657   Vikrant,Ganesh Gholap,⚡ Pushpendra Singh Patel...   \n",
       "\n",
       "                                              review_id  \\\n",
       "1353  RMAC0LO0EDHO9,R1UZCDEE5WMPNY,R35RTKDU6GUF5G,R1...   \n",
       "802   R1C8MVU3EIX56Y,R10RUXC7JD5S4I,R1AFBZ5PYTHO1Z,R...   \n",
       "657   R3C219XKJW9GI2,R7KGIU29C0TLL,R3S0UMZSM6FNWM,R3...   \n",
       "\n",
       "                                           review_title  \\\n",
       "1353  Worth money,Average,Morden geyser , very nice,...   \n",
       "802   Nice,good,Paisa vassol,Sturdy and long.,Good f...   \n",
       "657   Decent Product at about right price.,Seems goo...   \n",
       "\n",
       "                                         review_content  \\\n",
       "1353  Im really satisfied with this geyser im using ...   \n",
       "802   Sufficient length,excellent build quality ,goo...   \n",
       "657   I bought this power-bank to use during my vaca...   \n",
       "\n",
       "                                               img_link  \\\n",
       "1353  https://m.media-amazon.com/images/I/31Ex4oSr8R...   \n",
       "802   https://m.media-amazon.com/images/W/WEBP_40237...   \n",
       "657   https://m.media-amazon.com/images/W/WEBP_40237...   \n",
       "\n",
       "                                           product_link  \n",
       "1353  https://www.amazon.in/Racold-Eterno-Pro-Vertic...  \n",
       "802   https://www.amazon.in/AmazonBasics-Extension-C...  \n",
       "657   https://www.amazon.in/Ambrane-20000mAh-Lithium...  "
      ]
     },
     "execution_count": 10,
     "metadata": {},
     "output_type": "execute_result"
    }
   ],
   "source": [
    "df.sample(3)"
   ]
  },
  {
   "cell_type": "code",
   "execution_count": 11,
   "id": "0caccd49-3dc8-4633-a963-2ad767b97434",
   "metadata": {},
   "outputs": [
    {
     "data": {
      "text/plain": [
       "Index(['product_id', 'product_name', 'category', 'discounted_price',\n",
       "       'actual_price', 'discount_percentage', 'rating', 'rating_count',\n",
       "       'about_product', 'user_id', 'user_name', 'review_id', 'review_title',\n",
       "       'review_content', 'img_link', 'product_link'],\n",
       "      dtype='object')"
      ]
     },
     "execution_count": 11,
     "metadata": {},
     "output_type": "execute_result"
    }
   ],
   "source": [
    "df.columns"
   ]
  },
  {
   "cell_type": "markdown",
   "id": "055813c6-a9c3-42f9-9647-0b139051e92f",
   "metadata": {},
   "source": [
    "# 1 - What is the average rating for each product category?"
   ]
  },
  {
   "cell_type": "code",
   "execution_count": 12,
   "id": "7dbd3b9b-0451-4a5d-bfcc-6aeb8126d421",
   "metadata": {},
   "outputs": [
    {
     "data": {
      "text/plain": [
       "211"
      ]
     },
     "execution_count": 12,
     "metadata": {},
     "output_type": "execute_result"
    }
   ],
   "source": [
    "len(df.category.unique())"
   ]
  },
  {
   "cell_type": "code",
   "execution_count": 13,
   "id": "20ca45b2-cf09-4c0f-99db-927453a0d4ee",
   "metadata": {},
   "outputs": [
    {
     "data": {
      "text/plain": [
       "array(['4.2', '4.0', '3.9', '4.1', '4.3', '4.4', '4.5', '3.7', '3.3',\n",
       "       '3.6', '3.4', '3.8', '3.5', '4.6', '3.2', '5.0', '4.7', '3.0',\n",
       "       '2.8', '4', '3.1', '4.8', '2.3', '|', '2', '3', '2.6', '2.9'],\n",
       "      dtype=object)"
      ]
     },
     "execution_count": 13,
     "metadata": {},
     "output_type": "execute_result"
    }
   ],
   "source": [
    "df['rating'].unique()"
   ]
  },
  {
   "cell_type": "code",
   "execution_count": 14,
   "id": "03bc782b-c98c-45e4-b903-c572743506f5",
   "metadata": {},
   "outputs": [],
   "source": [
    "df['rating']=df['rating'].replace(to_replace='|',value=np.nan)"
   ]
  },
  {
   "cell_type": "code",
   "execution_count": 15,
   "id": "80e339a3-1bf2-4a2f-9cea-e23b69b355ca",
   "metadata": {},
   "outputs": [
    {
     "data": {
      "text/plain": [
       "array(['4.2', '4.0', '3.9', '4.1', '4.3', '4.4', '4.5', '3.7', '3.3',\n",
       "       '3.6', '3.4', '3.8', '3.5', '4.6', '3.2', '5.0', '4.7', '3.0',\n",
       "       '2.8', '4', '3.1', '4.8', '2.3', nan, '2', '3', '2.6', '2.9'],\n",
       "      dtype=object)"
      ]
     },
     "execution_count": 15,
     "metadata": {},
     "output_type": "execute_result"
    }
   ],
   "source": [
    "df['rating'].unique()"
   ]
  },
  {
   "cell_type": "code",
   "execution_count": 16,
   "id": "5f650c53-a049-445f-997b-5815a027f4e2",
   "metadata": {},
   "outputs": [
    {
     "data": {
      "text/plain": [
       "product_id             0\n",
       "product_name           0\n",
       "category               0\n",
       "discounted_price       0\n",
       "actual_price           0\n",
       "discount_percentage    0\n",
       "rating                 1\n",
       "rating_count           2\n",
       "about_product          0\n",
       "user_id                0\n",
       "user_name              0\n",
       "review_id              0\n",
       "review_title           0\n",
       "review_content         0\n",
       "img_link               0\n",
       "product_link           0\n",
       "dtype: int64"
      ]
     },
     "execution_count": 16,
     "metadata": {},
     "output_type": "execute_result"
    }
   ],
   "source": [
    "df.isnull().sum()"
   ]
  },
  {
   "cell_type": "code",
   "execution_count": 17,
   "id": "f4bdec30-890c-4629-a71c-02964a8c4f73",
   "metadata": {},
   "outputs": [],
   "source": [
    "df.dropna(inplace=True)"
   ]
  },
  {
   "cell_type": "code",
   "execution_count": 18,
   "id": "d4c72287-a77b-4f88-8bd7-129a6b6ae8ea",
   "metadata": {},
   "outputs": [
    {
     "data": {
      "text/plain": [
       "product_id             0\n",
       "product_name           0\n",
       "category               0\n",
       "discounted_price       0\n",
       "actual_price           0\n",
       "discount_percentage    0\n",
       "rating                 0\n",
       "rating_count           0\n",
       "about_product          0\n",
       "user_id                0\n",
       "user_name              0\n",
       "review_id              0\n",
       "review_title           0\n",
       "review_content         0\n",
       "img_link               0\n",
       "product_link           0\n",
       "dtype: int64"
      ]
     },
     "execution_count": 18,
     "metadata": {},
     "output_type": "execute_result"
    }
   ],
   "source": [
    "df.isnull().sum()"
   ]
  },
  {
   "cell_type": "code",
   "execution_count": 19,
   "id": "10877e9f-5378-47da-8130-cd9de9736357",
   "metadata": {},
   "outputs": [
    {
     "data": {
      "text/plain": [
       "Index(['product_id', 'product_name', 'category', 'discounted_price',\n",
       "       'actual_price', 'discount_percentage', 'rating', 'rating_count',\n",
       "       'about_product', 'user_id', 'user_name', 'review_id', 'review_title',\n",
       "       'review_content', 'img_link', 'product_link'],\n",
       "      dtype='object')"
      ]
     },
     "execution_count": 19,
     "metadata": {},
     "output_type": "execute_result"
    }
   ],
   "source": [
    "df.columns"
   ]
  },
  {
   "cell_type": "code",
   "execution_count": 20,
   "id": "f63a9675-1ddc-446a-a063-ad64fe210223",
   "metadata": {},
   "outputs": [
    {
     "data": {
      "text/plain": [
       "array(['4.2', '4.0', '3.9', '4.1', '4.3', '4.4', '4.5', '3.7', '3.3',\n",
       "       '3.6', '3.4', '3.8', '3.5', '4.6', '3.2', '5.0', '4.7', '3.0',\n",
       "       '2.8', '4', '3.1', '4.8', '2.3', '2', '3', '2.6', '2.9'],\n",
       "      dtype=object)"
      ]
     },
     "execution_count": 20,
     "metadata": {},
     "output_type": "execute_result"
    }
   ],
   "source": [
    "df['rating'].unique()"
   ]
  },
  {
   "cell_type": "code",
   "execution_count": 21,
   "id": "72935b3c-7b5d-4f40-a5cb-ca5a9e7a277c",
   "metadata": {},
   "outputs": [],
   "source": [
    "df['rating']=df['rating'].astype(float)"
   ]
  },
  {
   "cell_type": "code",
   "execution_count": 22,
   "id": "cd04d46c-1644-41da-a7b9-d0bf151c26b5",
   "metadata": {},
   "outputs": [
    {
     "data": {
      "text/plain": [
       "0       4.2\n",
       "1       4.0\n",
       "2       3.9\n",
       "3       4.2\n",
       "4       4.2\n",
       "       ... \n",
       "1460    4.0\n",
       "1461    4.1\n",
       "1462    3.6\n",
       "1463    4.0\n",
       "1464    4.3\n",
       "Name: rating, Length: 1462, dtype: float64"
      ]
     },
     "execution_count": 22,
     "metadata": {},
     "output_type": "execute_result"
    }
   ],
   "source": [
    "df['rating']"
   ]
  },
  {
   "cell_type": "code",
   "execution_count": 23,
   "id": "ba518bd7-28c3-4a31-977a-ac9b269c2b67",
   "metadata": {},
   "outputs": [
    {
     "data": {
      "text/plain": [
       "category\n",
       "Car&Motorbike|CarAccessories|InteriorAccessories|AirPurifiers&Ionizers                                                    3.800000\n",
       "Computers&Accessories|Accessories&Peripherals|Adapters|USBtoUSBAdapters                                                   4.150000\n",
       "Computers&Accessories|Accessories&Peripherals|Audio&VideoAccessories|PCHeadsets                                           3.500000\n",
       "Computers&Accessories|Accessories&Peripherals|Audio&VideoAccessories|PCMicrophones                                        3.600000\n",
       "Computers&Accessories|Accessories&Peripherals|Audio&VideoAccessories|PCSpeakers                                           4.050000\n",
       "                                                                                                                            ...   \n",
       "OfficeProducts|OfficePaperProducts|Paper|Stationery|Pens,Pencils&WritingSupplies|Pens&Refills|GelInkRollerballPens        4.250000\n",
       "OfficeProducts|OfficePaperProducts|Paper|Stationery|Pens,Pencils&WritingSupplies|Pens&Refills|LiquidInkRollerballPens     4.150000\n",
       "OfficeProducts|OfficePaperProducts|Paper|Stationery|Pens,Pencils&WritingSupplies|Pens&Refills|RetractableBallpointPens    4.300000\n",
       "OfficeProducts|OfficePaperProducts|Paper|Stationery|Pens,Pencils&WritingSupplies|Pens&Refills|StickBallpointPens          4.133333\n",
       "Toys&Games|Arts&Crafts|Drawing&PaintingSupplies|ColouringPens&Markers                                                     4.300000\n",
       "Name: rating, Length: 211, dtype: float64"
      ]
     },
     "execution_count": 23,
     "metadata": {},
     "output_type": "execute_result"
    }
   ],
   "source": [
    "df.groupby('category')['rating'].mean()"
   ]
  },
  {
   "cell_type": "markdown",
   "id": "b049fb80-96d3-4395-b236-113802a98948",
   "metadata": {},
   "source": [
    "# 2 - What are the top rating_count products by category?"
   ]
  },
  {
   "cell_type": "code",
   "execution_count": 24,
   "id": "497b03cb-7682-484f-b432-f6faa70a39f4",
   "metadata": {},
   "outputs": [
    {
     "data": {
      "text/html": [
       "<div>\n",
       "<style scoped>\n",
       "    .dataframe tbody tr th:only-of-type {\n",
       "        vertical-align: middle;\n",
       "    }\n",
       "\n",
       "    .dataframe tbody tr th {\n",
       "        vertical-align: top;\n",
       "    }\n",
       "\n",
       "    .dataframe thead th {\n",
       "        text-align: right;\n",
       "    }\n",
       "</style>\n",
       "<table border=\"1\" class=\"dataframe\">\n",
       "  <thead>\n",
       "    <tr style=\"text-align: right;\">\n",
       "      <th></th>\n",
       "      <th>product_id</th>\n",
       "      <th>product_name</th>\n",
       "      <th>category</th>\n",
       "      <th>discounted_price</th>\n",
       "      <th>actual_price</th>\n",
       "      <th>discount_percentage</th>\n",
       "      <th>rating</th>\n",
       "      <th>rating_count</th>\n",
       "      <th>about_product</th>\n",
       "      <th>user_id</th>\n",
       "      <th>user_name</th>\n",
       "      <th>review_id</th>\n",
       "      <th>review_title</th>\n",
       "      <th>review_content</th>\n",
       "      <th>img_link</th>\n",
       "      <th>product_link</th>\n",
       "    </tr>\n",
       "  </thead>\n",
       "  <tbody>\n",
       "    <tr>\n",
       "      <th>391</th>\n",
       "      <td>B0B5DDJNH4</td>\n",
       "      <td>boAt Wave Call Smart Watch, Smart Talk with Ad...</td>\n",
       "      <td>Electronics|WearableTechnology|SmartWatches</td>\n",
       "      <td>₹1,999</td>\n",
       "      <td>₹7,990</td>\n",
       "      <td>75%</td>\n",
       "      <td>3.8</td>\n",
       "      <td>17,831</td>\n",
       "      <td>Bluetooth Calling- Wave Call comes with a prem...</td>\n",
       "      <td>AHPYDFW6Y3FIQGD2RJPBFF5QNVRQ,AG7DTVYZDY2NWU6V2...</td>\n",
       "      <td>AV,Mathan kumar,Amol Manjrekar,Suraj_nirmalkar...</td>\n",
       "      <td>R3EKLFGQGV02SG,R23WEMNZK46UV3,R1G2C7XV8CAM7W,R...</td>\n",
       "      <td>Not Polished Enough. (Improving with updates),...</td>\n",
       "      <td>[Update: Sept 29] boAt seems to have heard the...</td>\n",
       "      <td>https://m.media-amazon.com/images/I/411q-oMveh...</td>\n",
       "      <td>https://www.amazon.in/boAt-Wave-Call-Dedicated...</td>\n",
       "    </tr>\n",
       "  </tbody>\n",
       "</table>\n",
       "</div>"
      ],
      "text/plain": [
       "     product_id                                       product_name  \\\n",
       "391  B0B5DDJNH4  boAt Wave Call Smart Watch, Smart Talk with Ad...   \n",
       "\n",
       "                                        category discounted_price  \\\n",
       "391  Electronics|WearableTechnology|SmartWatches           ₹1,999   \n",
       "\n",
       "    actual_price discount_percentage  rating rating_count  \\\n",
       "391       ₹7,990                 75%     3.8       17,831   \n",
       "\n",
       "                                         about_product  \\\n",
       "391  Bluetooth Calling- Wave Call comes with a prem...   \n",
       "\n",
       "                                               user_id  \\\n",
       "391  AHPYDFW6Y3FIQGD2RJPBFF5QNVRQ,AG7DTVYZDY2NWU6V2...   \n",
       "\n",
       "                                             user_name  \\\n",
       "391  AV,Mathan kumar,Amol Manjrekar,Suraj_nirmalkar...   \n",
       "\n",
       "                                             review_id  \\\n",
       "391  R3EKLFGQGV02SG,R23WEMNZK46UV3,R1G2C7XV8CAM7W,R...   \n",
       "\n",
       "                                          review_title  \\\n",
       "391  Not Polished Enough. (Improving with updates),...   \n",
       "\n",
       "                                        review_content  \\\n",
       "391  [Update: Sept 29] boAt seems to have heard the...   \n",
       "\n",
       "                                              img_link  \\\n",
       "391  https://m.media-amazon.com/images/I/411q-oMveh...   \n",
       "\n",
       "                                          product_link  \n",
       "391  https://www.amazon.in/boAt-Wave-Call-Dedicated...  "
      ]
     },
     "execution_count": 24,
     "metadata": {},
     "output_type": "execute_result"
    }
   ],
   "source": [
    "df.sample()"
   ]
  },
  {
   "cell_type": "code",
   "execution_count": 25,
   "id": "366b08cf-4c26-4474-a8c5-bbbcf8e01a39",
   "metadata": {},
   "outputs": [
    {
     "data": {
      "text/plain": [
       "Index(['product_id', 'product_name', 'category', 'discounted_price',\n",
       "       'actual_price', 'discount_percentage', 'rating', 'rating_count',\n",
       "       'about_product', 'user_id', 'user_name', 'review_id', 'review_title',\n",
       "       'review_content', 'img_link', 'product_link'],\n",
       "      dtype='object')"
      ]
     },
     "execution_count": 25,
     "metadata": {},
     "output_type": "execute_result"
    }
   ],
   "source": [
    "df.columns"
   ]
  },
  {
   "cell_type": "code",
   "execution_count": 114,
   "id": "eebbeac9-0bf6-4232-a983-035e642300b5",
   "metadata": {},
   "outputs": [],
   "source": [
    "df['rating_count']=df['rating_count'].str.replace(',','')"
   ]
  },
  {
   "cell_type": "code",
   "execution_count": 116,
   "id": "551d1217-a523-46cc-a2e3-c13e869cf45b",
   "metadata": {},
   "outputs": [],
   "source": [
    "df['rating_count']=pd.to_numeric(df['rating_count'])"
   ]
  },
  {
   "cell_type": "code",
   "execution_count": 117,
   "id": "d82e58a6-fcd5-45e9-8132-2fd1beea25d3",
   "metadata": {},
   "outputs": [
    {
     "data": {
      "text/plain": [
       "0       24269\n",
       "1       43994\n",
       "2        7928\n",
       "3       94363\n",
       "4       16905\n",
       "        ...  \n",
       "1460     1090\n",
       "1461     4118\n",
       "1462      468\n",
       "1463     8031\n",
       "1464     6987\n",
       "Name: rating_count, Length: 1462, dtype: int64"
      ]
     },
     "execution_count": 117,
     "metadata": {},
     "output_type": "execute_result"
    }
   ],
   "source": [
    "df.rating_count"
   ]
  },
  {
   "cell_type": "code",
   "execution_count": 127,
   "id": "4742923a-983e-415e-9e2a-8c7bf6c6f3c0",
   "metadata": {},
   "outputs": [
    {
     "data": {
      "text/html": [
       "<div>\n",
       "<style scoped>\n",
       "    .dataframe tbody tr th:only-of-type {\n",
       "        vertical-align: middle;\n",
       "    }\n",
       "\n",
       "    .dataframe tbody tr th {\n",
       "        vertical-align: top;\n",
       "    }\n",
       "\n",
       "    .dataframe thead th {\n",
       "        text-align: right;\n",
       "    }\n",
       "</style>\n",
       "<table border=\"1\" class=\"dataframe\">\n",
       "  <thead>\n",
       "    <tr style=\"text-align: right;\">\n",
       "      <th></th>\n",
       "      <th>product_id</th>\n",
       "      <th>product_name</th>\n",
       "      <th>category</th>\n",
       "      <th>discounted_price</th>\n",
       "      <th>actual_price</th>\n",
       "      <th>discount_percentage</th>\n",
       "      <th>rating</th>\n",
       "      <th>rating_count</th>\n",
       "      <th>about_product</th>\n",
       "      <th>user_id</th>\n",
       "      <th>user_name</th>\n",
       "      <th>review_id</th>\n",
       "      <th>review_title</th>\n",
       "      <th>review_content</th>\n",
       "      <th>img_link</th>\n",
       "      <th>product_link</th>\n",
       "      <th>Discount_Percentage</th>\n",
       "    </tr>\n",
       "  </thead>\n",
       "  <tbody>\n",
       "    <tr>\n",
       "      <th>1157</th>\n",
       "      <td>B0912WJ87V</td>\n",
       "      <td>Reffair AX30 [MAX] Portable Air Purifier for C...</td>\n",
       "      <td>Car&amp;Motorbike|CarAccessories|InteriorAccessori...</td>\n",
       "      <td>2339.0</td>\n",
       "      <td>4000.0</td>\n",
       "      <td>42%</td>\n",
       "      <td>3.8</td>\n",
       "      <td>1118</td>\n",
       "      <td>[NEW LAUNCH - INNOVATIVE DESIGN] EFFICIENT PUR...</td>\n",
       "      <td>AG6W5HESRSDLBX3NCYOOUGFOWERA,AED4U5CF37HVSYPMD...</td>\n",
       "      <td>Arivazhagan,Ajit,swanand pandit,Venkatesh S.,S...</td>\n",
       "      <td>R3TOOFPX256D59,R1PR50BDQOEIIO,R392FI4QWXWOX5,R...</td>\n",
       "      <td>Liked it,User friendly and effective,Not as pe...</td>\n",
       "      <td>As of now its working fine, but don't expect m...</td>\n",
       "      <td>https://m.media-amazon.com/images/W/WEBP_40237...</td>\n",
       "      <td>https://www.amazon.in/Reffair-AX30-MAX-Interna...</td>\n",
       "      <td>41.525000</td>\n",
       "    </tr>\n",
       "    <tr>\n",
       "      <th>695</th>\n",
       "      <td>B097C564GC</td>\n",
       "      <td>rts [2 Pack] Mini USB C Type C Adapter Plug, T...</td>\n",
       "      <td>Computers&amp;Accessories|Accessories&amp;Peripherals|...</td>\n",
       "      <td>294.0</td>\n",
       "      <td>4999.0</td>\n",
       "      <td>94%</td>\n",
       "      <td>4.3</td>\n",
       "      <td>4426</td>\n",
       "      <td>【WIDER COMPATIBILITY】This USB C Female to USB ...</td>\n",
       "      <td>AGO5SRT3ESLNL5WTRQFD5BSIYPQA,AGGNODUMRADB3PQQT...</td>\n",
       "      <td>Naga Sai Gadagottu,Neha Sharma,Amazon Customer...</td>\n",
       "      <td>R3CUNCZTU43JPP,RSO46BN8S4OSU,R2UD5D7T4DZRE5,R2...</td>\n",
       "      <td>Tiny helping hand,Good product,As a whole good...</td>\n",
       "      <td>This eliminates the need to buy chargers for t...</td>\n",
       "      <td>https://m.media-amazon.com/images/W/WEBP_40237...</td>\n",
       "      <td>https://www.amazon.in/rts-Adapter-Charging-Con...</td>\n",
       "      <td>94.118824</td>\n",
       "    </tr>\n",
       "    <tr>\n",
       "      <th>906</th>\n",
       "      <td>B009LJ2BXA</td>\n",
       "      <td>Hp Wired On Ear Headphones With Mic With 3.5 M...</td>\n",
       "      <td>Computers&amp;Accessories|Accessories&amp;Peripherals|...</td>\n",
       "      <td>649.0</td>\n",
       "      <td>999.0</td>\n",
       "      <td>35%</td>\n",
       "      <td>3.5</td>\n",
       "      <td>7222</td>\n",
       "      <td>Powerful bass and clear treble sounds|Wired co...</td>\n",
       "      <td>AFIZUD4UBB67LGWY6CVLRHKA75IA,AG2TD3527KNZZNE46...</td>\n",
       "      <td>Deepthi,Nitin Mishra,Raju Chacko,A.VISWANATHAR...</td>\n",
       "      <td>R392ZYXC6D3GY0,R1MJHZXZ09ETAE,R20PJKJTCF9RXN,R...</td>\n",
       "      <td>Headset,Overall a good product. Sound quality ...</td>\n",
       "      <td>Not a perfect fit for long usage,One problem y...</td>\n",
       "      <td>https://m.media-amazon.com/images/I/31eE6slx4E...</td>\n",
       "      <td>https://www.amazon.in/HP-B4B09PA-Headphones-wi...</td>\n",
       "      <td>35.035035</td>\n",
       "    </tr>\n",
       "    <tr>\n",
       "      <th>748</th>\n",
       "      <td>B08SCCG9D4</td>\n",
       "      <td>JBL Commercial CSLM20B Auxiliary Omnidirection...</td>\n",
       "      <td>Computers&amp;Accessories|Accessories&amp;Peripherals|...</td>\n",
       "      <td>949.0</td>\n",
       "      <td>2000.0</td>\n",
       "      <td>53%</td>\n",
       "      <td>3.9</td>\n",
       "      <td>14969</td>\n",
       "      <td>Omnidirectional pickup pattern|3.5mm TRRS jack...</td>\n",
       "      <td>AFROXVCIF6PZXFXLS7DLTPT2CGCQ,AHA4ODJMDNBNUVEUS...</td>\n",
       "      <td>Ansh KaTariA,Saqlain Shaikh,Sardar V.,Rushikes...</td>\n",
       "      <td>R20M6JOASW88SS,RPM4RV2MQNNN0,R19KRP5SDTN2NL,R1...</td>\n",
       "      <td>It's just good !,Good for WFH,Works according ...</td>\n",
       "      <td>It just good for beginners you can start your ...</td>\n",
       "      <td>https://m.media-amazon.com/images/I/41U9-x0JGP...</td>\n",
       "      <td>https://www.amazon.in/JBL-Commercial-Omnidirec...</td>\n",
       "      <td>52.550000</td>\n",
       "    </tr>\n",
       "    <tr>\n",
       "      <th>844</th>\n",
       "      <td>B08K9PX15C</td>\n",
       "      <td>Zebronics Zeb Wonderbar 10 USB Powered 2.0 Com...</td>\n",
       "      <td>Computers&amp;Accessories|Accessories&amp;Peripherals|...</td>\n",
       "      <td>849.0</td>\n",
       "      <td>1499.0</td>\n",
       "      <td>43%</td>\n",
       "      <td>4.0</td>\n",
       "      <td>7352</td>\n",
       "      <td>The 2.0 speaker has a versatile design that ca...</td>\n",
       "      <td>AFC7Q5Q64XM2Y64FT7Y3L2YVALRA,AG7C5TFPIBMWQQC2S...</td>\n",
       "      <td>Balamurugan Trivandrum,prathmesh sawant,Pravee...</td>\n",
       "      <td>R2USVKN5VQX7ZL,R36O11JTBG8NKH,R1OC5OKQ1ZHRT4,R...</td>\n",
       "      <td>Nice product from Zebronics... Using for lapto...</td>\n",
       "      <td>Zebronics Product is always good. I bought thi...</td>\n",
       "      <td>https://m.media-amazon.com/images/W/WEBP_40237...</td>\n",
       "      <td>https://www.amazon.in/Zebronics-Wonderbar-Powe...</td>\n",
       "      <td>43.362241</td>\n",
       "    </tr>\n",
       "    <tr>\n",
       "      <th>...</th>\n",
       "      <td>...</td>\n",
       "      <td>...</td>\n",
       "      <td>...</td>\n",
       "      <td>...</td>\n",
       "      <td>...</td>\n",
       "      <td>...</td>\n",
       "      <td>...</td>\n",
       "      <td>...</td>\n",
       "      <td>...</td>\n",
       "      <td>...</td>\n",
       "      <td>...</td>\n",
       "      <td>...</td>\n",
       "      <td>...</td>\n",
       "      <td>...</td>\n",
       "      <td>...</td>\n",
       "      <td>...</td>\n",
       "      <td>...</td>\n",
       "    </tr>\n",
       "    <tr>\n",
       "      <th>616</th>\n",
       "      <td>B07KCMR8D6</td>\n",
       "      <td>Classmate Octane Neon- Blue Gel Pens(Pack of 5...</td>\n",
       "      <td>OfficeProducts|OfficePaperProducts|Paper|Stati...</td>\n",
       "      <td>50.0</td>\n",
       "      <td>50.0</td>\n",
       "      <td>0%</td>\n",
       "      <td>4.3</td>\n",
       "      <td>5792</td>\n",
       "      <td>5 vibrant Neon body color|Smooth and fast writ...</td>\n",
       "      <td>AEVPRYZLGHNMEZA5BYGIX36LYZXA,AEZPOZQEEBFFXZ2EQ...</td>\n",
       "      <td>Gatij saini,Biswajit Kundu,Altaf Khan,Agam Sar...</td>\n",
       "      <td>RZAAQFY7BDSWC,R3604ZO2AA4PK5,R3C8K6Z6W9MDTQ,R3...</td>\n",
       "      <td>Nice ball pen,Good product,Average,Nice Pen,It...</td>\n",
       "      <td>Very nice ball pen,Thank you Amazon,Easy to ho...</td>\n",
       "      <td>https://m.media-amazon.com/images/W/WEBP_40237...</td>\n",
       "      <td>https://www.amazon.in/Classmate-Octane-Neon-Pa...</td>\n",
       "      <td>0.000000</td>\n",
       "    </tr>\n",
       "    <tr>\n",
       "      <th>993</th>\n",
       "      <td>B00S2SEV7K</td>\n",
       "      <td>Pilot Frixion Clicker Roller Pen (Blue), (9000...</td>\n",
       "      <td>OfficeProducts|OfficePaperProducts|Paper|Stati...</td>\n",
       "      <td>90.0</td>\n",
       "      <td>100.0</td>\n",
       "      <td>10%</td>\n",
       "      <td>4.1</td>\n",
       "      <td>6199</td>\n",
       "      <td>Unique patented thermo-sensitive Frixion Ink|A...</td>\n",
       "      <td>AFSJUWV2I4CD53EPCRMOQJ3CWR3Q,AGLYAYWTFPPMLELDG...</td>\n",
       "      <td>Abhay Gupta,vimal rastogi,Sughnesha,Prityush,A...</td>\n",
       "      <td>R1QL22IXTM3HYM,R2BCCQQCMW4X56,R8MW9P91PIMJ3,R1...</td>\n",
       "      <td>Good... 😊,Nice pen but it has some problems.,A...</td>\n",
       "      <td>Bahut aacha hai ye pen sach me likhne ke Baad ...</td>\n",
       "      <td>https://m.media-amazon.com/images/I/21t8TMvuq6...</td>\n",
       "      <td>https://www.amazon.in/Pilot-Frixion-Clicker-Ro...</td>\n",
       "      <td>10.000000</td>\n",
       "    </tr>\n",
       "    <tr>\n",
       "      <th>765</th>\n",
       "      <td>B00LM4W1N2</td>\n",
       "      <td>Parker Classic Gold Gold Trim Ball Pen</td>\n",
       "      <td>OfficeProducts|OfficePaperProducts|Paper|Stati...</td>\n",
       "      <td>480.0</td>\n",
       "      <td>600.0</td>\n",
       "      <td>20%</td>\n",
       "      <td>4.3</td>\n",
       "      <td>5719</td>\n",
       "      <td>Parker Classic Gold GT has a tungsten carbide ...</td>\n",
       "      <td>AEWRRSZJ7PFNPLN3PDWMWQJ2UEIA,AHWNKLMNWM55LSYHS...</td>\n",
       "      <td>Diksha Wankhede,Sam,Shafi Nagani,Unified Excel...</td>\n",
       "      <td>R18AG9M9HHC6RB,R3AQT2WK20V0JD,R10LMVOXP4TLSA,R...</td>\n",
       "      <td>So good ,nice looking,Value for money and a ni...</td>\n",
       "      <td>Easy to hold and to good in this price,The qua...</td>\n",
       "      <td>https://m.media-amazon.com/images/I/41Ae67XZAC...</td>\n",
       "      <td>https://www.amazon.in/Parker-Classic-Gold-Ball...</td>\n",
       "      <td>20.000000</td>\n",
       "    </tr>\n",
       "    <tr>\n",
       "      <th>850</th>\n",
       "      <td>B07SBGFDX9</td>\n",
       "      <td>Pentonic Multicolor Ball Point Pen, Pack of 10</td>\n",
       "      <td>OfficeProducts|OfficePaperProducts|Paper|Stati...</td>\n",
       "      <td>120.0</td>\n",
       "      <td>120.0</td>\n",
       "      <td>0%</td>\n",
       "      <td>4.1</td>\n",
       "      <td>4308</td>\n",
       "      <td>0.7 mm tip size|Black Body, Multicolor Ink(Bla...</td>\n",
       "      <td>AGK76H5VGHDWFQD7JTHVKZNQ5BHA,AHWXK2FU23OBRZZUA...</td>\n",
       "      <td>Parul S.,Prateek Tiwari,kateriki,golla ramesh,...</td>\n",
       "      <td>R1FXYA8WISUWTK,R2C5SUFAIFCKV9,RD87PA0KNH3GQ,R1...</td>\n",
       "      <td>Average,I like the 'Pentonic' pens,which is wh...</td>\n",
       "      <td>It's good, but they give 2 different shades of...</td>\n",
       "      <td>https://m.media-amazon.com/images/I/410DCX0vt4...</td>\n",
       "      <td>https://www.amazon.in/Linc-Ball-Point-Pentonic...</td>\n",
       "      <td>0.000000</td>\n",
       "    </tr>\n",
       "    <tr>\n",
       "      <th>924</th>\n",
       "      <td>B00DJ5N9VK</td>\n",
       "      <td>Faber-Castell Connector Pen Set - Pack of 25 (...</td>\n",
       "      <td>Toys&amp;Games|Arts&amp;Crafts|Drawing&amp;PaintingSupplie...</td>\n",
       "      <td>150.0</td>\n",
       "      <td>150.0</td>\n",
       "      <td>0%</td>\n",
       "      <td>4.3</td>\n",
       "      <td>15867</td>\n",
       "      <td>Simply draw and color or clip these pens toget...</td>\n",
       "      <td>AE5D3EMPETKIA4VU4SZU5UIHXKQA,AFF76KWKCMR6GNPUX...</td>\n",
       "      <td>Aradhna Aadhya,sonali ghosh,Sam,VGRK,Surfer007...</td>\n",
       "      <td>R39PYNXMLNEIYW,R3AMNR0LJWNAUU,R2P5M80U8OL9OQ,R...</td>\n",
       "      <td>As this was my 2nd order for same product.2nd ...</td>\n",
       "      <td>Torn packing.dekhne me product used lg rha tha...</td>\n",
       "      <td>https://m.media-amazon.com/images/I/41rJGx-w9i...</td>\n",
       "      <td>https://www.amazon.in/Faber-Castell-Connector-...</td>\n",
       "      <td>0.000000</td>\n",
       "    </tr>\n",
       "  </tbody>\n",
       "</table>\n",
       "<p>211 rows × 17 columns</p>\n",
       "</div>"
      ],
      "text/plain": [
       "      product_id                                       product_name  \\\n",
       "1157  B0912WJ87V  Reffair AX30 [MAX] Portable Air Purifier for C...   \n",
       "695   B097C564GC  rts [2 Pack] Mini USB C Type C Adapter Plug, T...   \n",
       "906   B009LJ2BXA  Hp Wired On Ear Headphones With Mic With 3.5 M...   \n",
       "748   B08SCCG9D4  JBL Commercial CSLM20B Auxiliary Omnidirection...   \n",
       "844   B08K9PX15C  Zebronics Zeb Wonderbar 10 USB Powered 2.0 Com...   \n",
       "...          ...                                                ...   \n",
       "616   B07KCMR8D6  Classmate Octane Neon- Blue Gel Pens(Pack of 5...   \n",
       "993   B00S2SEV7K  Pilot Frixion Clicker Roller Pen (Blue), (9000...   \n",
       "765   B00LM4W1N2             Parker Classic Gold Gold Trim Ball Pen   \n",
       "850   B07SBGFDX9     Pentonic Multicolor Ball Point Pen, Pack of 10   \n",
       "924   B00DJ5N9VK  Faber-Castell Connector Pen Set - Pack of 25 (...   \n",
       "\n",
       "                                               category  discounted_price  \\\n",
       "1157  Car&Motorbike|CarAccessories|InteriorAccessori...            2339.0   \n",
       "695   Computers&Accessories|Accessories&Peripherals|...             294.0   \n",
       "906   Computers&Accessories|Accessories&Peripherals|...             649.0   \n",
       "748   Computers&Accessories|Accessories&Peripherals|...             949.0   \n",
       "844   Computers&Accessories|Accessories&Peripherals|...             849.0   \n",
       "...                                                 ...               ...   \n",
       "616   OfficeProducts|OfficePaperProducts|Paper|Stati...              50.0   \n",
       "993   OfficeProducts|OfficePaperProducts|Paper|Stati...              90.0   \n",
       "765   OfficeProducts|OfficePaperProducts|Paper|Stati...             480.0   \n",
       "850   OfficeProducts|OfficePaperProducts|Paper|Stati...             120.0   \n",
       "924   Toys&Games|Arts&Crafts|Drawing&PaintingSupplie...             150.0   \n",
       "\n",
       "      actual_price discount_percentage  rating  rating_count  \\\n",
       "1157        4000.0                 42%     3.8          1118   \n",
       "695         4999.0                 94%     4.3          4426   \n",
       "906          999.0                 35%     3.5          7222   \n",
       "748         2000.0                 53%     3.9         14969   \n",
       "844         1499.0                 43%     4.0          7352   \n",
       "...            ...                 ...     ...           ...   \n",
       "616           50.0                  0%     4.3          5792   \n",
       "993          100.0                 10%     4.1          6199   \n",
       "765          600.0                 20%     4.3          5719   \n",
       "850          120.0                  0%     4.1          4308   \n",
       "924          150.0                  0%     4.3         15867   \n",
       "\n",
       "                                          about_product  \\\n",
       "1157  [NEW LAUNCH - INNOVATIVE DESIGN] EFFICIENT PUR...   \n",
       "695   【WIDER COMPATIBILITY】This USB C Female to USB ...   \n",
       "906   Powerful bass and clear treble sounds|Wired co...   \n",
       "748   Omnidirectional pickup pattern|3.5mm TRRS jack...   \n",
       "844   The 2.0 speaker has a versatile design that ca...   \n",
       "...                                                 ...   \n",
       "616   5 vibrant Neon body color|Smooth and fast writ...   \n",
       "993   Unique patented thermo-sensitive Frixion Ink|A...   \n",
       "765   Parker Classic Gold GT has a tungsten carbide ...   \n",
       "850   0.7 mm tip size|Black Body, Multicolor Ink(Bla...   \n",
       "924   Simply draw and color or clip these pens toget...   \n",
       "\n",
       "                                                user_id  \\\n",
       "1157  AG6W5HESRSDLBX3NCYOOUGFOWERA,AED4U5CF37HVSYPMD...   \n",
       "695   AGO5SRT3ESLNL5WTRQFD5BSIYPQA,AGGNODUMRADB3PQQT...   \n",
       "906   AFIZUD4UBB67LGWY6CVLRHKA75IA,AG2TD3527KNZZNE46...   \n",
       "748   AFROXVCIF6PZXFXLS7DLTPT2CGCQ,AHA4ODJMDNBNUVEUS...   \n",
       "844   AFC7Q5Q64XM2Y64FT7Y3L2YVALRA,AG7C5TFPIBMWQQC2S...   \n",
       "...                                                 ...   \n",
       "616   AEVPRYZLGHNMEZA5BYGIX36LYZXA,AEZPOZQEEBFFXZ2EQ...   \n",
       "993   AFSJUWV2I4CD53EPCRMOQJ3CWR3Q,AGLYAYWTFPPMLELDG...   \n",
       "765   AEWRRSZJ7PFNPLN3PDWMWQJ2UEIA,AHWNKLMNWM55LSYHS...   \n",
       "850   AGK76H5VGHDWFQD7JTHVKZNQ5BHA,AHWXK2FU23OBRZZUA...   \n",
       "924   AE5D3EMPETKIA4VU4SZU5UIHXKQA,AFF76KWKCMR6GNPUX...   \n",
       "\n",
       "                                              user_name  \\\n",
       "1157  Arivazhagan,Ajit,swanand pandit,Venkatesh S.,S...   \n",
       "695   Naga Sai Gadagottu,Neha Sharma,Amazon Customer...   \n",
       "906   Deepthi,Nitin Mishra,Raju Chacko,A.VISWANATHAR...   \n",
       "748   Ansh KaTariA,Saqlain Shaikh,Sardar V.,Rushikes...   \n",
       "844   Balamurugan Trivandrum,prathmesh sawant,Pravee...   \n",
       "...                                                 ...   \n",
       "616   Gatij saini,Biswajit Kundu,Altaf Khan,Agam Sar...   \n",
       "993   Abhay Gupta,vimal rastogi,Sughnesha,Prityush,A...   \n",
       "765   Diksha Wankhede,Sam,Shafi Nagani,Unified Excel...   \n",
       "850   Parul S.,Prateek Tiwari,kateriki,golla ramesh,...   \n",
       "924   Aradhna Aadhya,sonali ghosh,Sam,VGRK,Surfer007...   \n",
       "\n",
       "                                              review_id  \\\n",
       "1157  R3TOOFPX256D59,R1PR50BDQOEIIO,R392FI4QWXWOX5,R...   \n",
       "695   R3CUNCZTU43JPP,RSO46BN8S4OSU,R2UD5D7T4DZRE5,R2...   \n",
       "906   R392ZYXC6D3GY0,R1MJHZXZ09ETAE,R20PJKJTCF9RXN,R...   \n",
       "748   R20M6JOASW88SS,RPM4RV2MQNNN0,R19KRP5SDTN2NL,R1...   \n",
       "844   R2USVKN5VQX7ZL,R36O11JTBG8NKH,R1OC5OKQ1ZHRT4,R...   \n",
       "...                                                 ...   \n",
       "616   RZAAQFY7BDSWC,R3604ZO2AA4PK5,R3C8K6Z6W9MDTQ,R3...   \n",
       "993   R1QL22IXTM3HYM,R2BCCQQCMW4X56,R8MW9P91PIMJ3,R1...   \n",
       "765   R18AG9M9HHC6RB,R3AQT2WK20V0JD,R10LMVOXP4TLSA,R...   \n",
       "850   R1FXYA8WISUWTK,R2C5SUFAIFCKV9,RD87PA0KNH3GQ,R1...   \n",
       "924   R39PYNXMLNEIYW,R3AMNR0LJWNAUU,R2P5M80U8OL9OQ,R...   \n",
       "\n",
       "                                           review_title  \\\n",
       "1157  Liked it,User friendly and effective,Not as pe...   \n",
       "695   Tiny helping hand,Good product,As a whole good...   \n",
       "906   Headset,Overall a good product. Sound quality ...   \n",
       "748   It's just good !,Good for WFH,Works according ...   \n",
       "844   Nice product from Zebronics... Using for lapto...   \n",
       "...                                                 ...   \n",
       "616   Nice ball pen,Good product,Average,Nice Pen,It...   \n",
       "993   Good... 😊,Nice pen but it has some problems.,A...   \n",
       "765   So good ,nice looking,Value for money and a ni...   \n",
       "850   Average,I like the 'Pentonic' pens,which is wh...   \n",
       "924   As this was my 2nd order for same product.2nd ...   \n",
       "\n",
       "                                         review_content  \\\n",
       "1157  As of now its working fine, but don't expect m...   \n",
       "695   This eliminates the need to buy chargers for t...   \n",
       "906   Not a perfect fit for long usage,One problem y...   \n",
       "748   It just good for beginners you can start your ...   \n",
       "844   Zebronics Product is always good. I bought thi...   \n",
       "...                                                 ...   \n",
       "616   Very nice ball pen,Thank you Amazon,Easy to ho...   \n",
       "993   Bahut aacha hai ye pen sach me likhne ke Baad ...   \n",
       "765   Easy to hold and to good in this price,The qua...   \n",
       "850   It's good, but they give 2 different shades of...   \n",
       "924   Torn packing.dekhne me product used lg rha tha...   \n",
       "\n",
       "                                               img_link  \\\n",
       "1157  https://m.media-amazon.com/images/W/WEBP_40237...   \n",
       "695   https://m.media-amazon.com/images/W/WEBP_40237...   \n",
       "906   https://m.media-amazon.com/images/I/31eE6slx4E...   \n",
       "748   https://m.media-amazon.com/images/I/41U9-x0JGP...   \n",
       "844   https://m.media-amazon.com/images/W/WEBP_40237...   \n",
       "...                                                 ...   \n",
       "616   https://m.media-amazon.com/images/W/WEBP_40237...   \n",
       "993   https://m.media-amazon.com/images/I/21t8TMvuq6...   \n",
       "765   https://m.media-amazon.com/images/I/41Ae67XZAC...   \n",
       "850   https://m.media-amazon.com/images/I/410DCX0vt4...   \n",
       "924   https://m.media-amazon.com/images/I/41rJGx-w9i...   \n",
       "\n",
       "                                           product_link  Discount_Percentage  \n",
       "1157  https://www.amazon.in/Reffair-AX30-MAX-Interna...            41.525000  \n",
       "695   https://www.amazon.in/rts-Adapter-Charging-Con...            94.118824  \n",
       "906   https://www.amazon.in/HP-B4B09PA-Headphones-wi...            35.035035  \n",
       "748   https://www.amazon.in/JBL-Commercial-Omnidirec...            52.550000  \n",
       "844   https://www.amazon.in/Zebronics-Wonderbar-Powe...            43.362241  \n",
       "...                                                 ...                  ...  \n",
       "616   https://www.amazon.in/Classmate-Octane-Neon-Pa...             0.000000  \n",
       "993   https://www.amazon.in/Pilot-Frixion-Clicker-Ro...            10.000000  \n",
       "765   https://www.amazon.in/Parker-Classic-Gold-Ball...            20.000000  \n",
       "850   https://www.amazon.in/Linc-Ball-Point-Pentonic...             0.000000  \n",
       "924   https://www.amazon.in/Faber-Castell-Connector-...             0.000000  \n",
       "\n",
       "[211 rows x 17 columns]"
      ]
     },
     "execution_count": 127,
     "metadata": {},
     "output_type": "execute_result"
    }
   ],
   "source": [
    "top_rating_count_products = df.sort_values(['category', 'rating_count'], ascending=[True, False]).groupby('category').head(1)\n",
    "top_rating_count_products"
   ]
  },
  {
   "cell_type": "markdown",
   "id": "8def520b-2c07-4762-8831-9d6693ae29b8",
   "metadata": {},
   "source": [
    "# 3 - What is the distribution of discounted prices vs. actual prices?"
   ]
  },
  {
   "cell_type": "code",
   "execution_count": 28,
   "id": "818b7dd2-2d58-4492-837a-9ace073ef2a3",
   "metadata": {},
   "outputs": [
    {
     "data": {
      "text/plain": [
       "Index(['product_id', 'product_name', 'category', 'discounted_price',\n",
       "       'actual_price', 'discount_percentage', 'rating', 'rating_count',\n",
       "       'about_product', 'user_id', 'user_name', 'review_id', 'review_title',\n",
       "       'review_content', 'img_link', 'product_link'],\n",
       "      dtype='object')"
      ]
     },
     "execution_count": 28,
     "metadata": {},
     "output_type": "execute_result"
    }
   ],
   "source": [
    "df.columns"
   ]
  },
  {
   "cell_type": "code",
   "execution_count": 33,
   "id": "d28ddaa0-8944-4245-a0ed-179ae276a8bb",
   "metadata": {},
   "outputs": [],
   "source": [
    "df['discounted_price']=df['discounted_price'].str.replace('₹','').str.replace(',','')"
   ]
  },
  {
   "cell_type": "code",
   "execution_count": 34,
   "id": "0f5aa40a-c18f-4500-8641-796106cffc29",
   "metadata": {},
   "outputs": [],
   "source": [
    "df['discounted_price']=pd.to_numeric(df['discounted_price'])"
   ]
  },
  {
   "cell_type": "code",
   "execution_count": 35,
   "id": "764aa7c4-eaa1-4cc9-b641-4bdeb4b7304f",
   "metadata": {},
   "outputs": [
    {
     "data": {
      "text/plain": [
       "0        399.0\n",
       "1        199.0\n",
       "2        199.0\n",
       "3        329.0\n",
       "4        154.0\n",
       "         ...  \n",
       "1460     379.0\n",
       "1461    2280.0\n",
       "1462    2219.0\n",
       "1463    1399.0\n",
       "1464    2863.0\n",
       "Name: discounted_price, Length: 1462, dtype: float64"
      ]
     },
     "execution_count": 35,
     "metadata": {},
     "output_type": "execute_result"
    }
   ],
   "source": [
    "df['discounted_price']"
   ]
  },
  {
   "cell_type": "code",
   "execution_count": 37,
   "id": "438db9db-c965-4d8e-a4af-9ffcb1907e81",
   "metadata": {},
   "outputs": [],
   "source": [
    "df['actual_price']=df['actual_price'].str.replace('₹','').str.replace(',','')"
   ]
  },
  {
   "cell_type": "code",
   "execution_count": 38,
   "id": "1087df18-93bf-43c1-93d5-548cc68e5fdd",
   "metadata": {},
   "outputs": [],
   "source": [
    "df['actual_price']=pd.to_numeric(df['actual_price'])"
   ]
  },
  {
   "cell_type": "code",
   "execution_count": 39,
   "id": "8af9c0e7-ba84-4df1-a155-5f6a8b04e83c",
   "metadata": {},
   "outputs": [
    {
     "data": {
      "text/plain": [
       "0       1099.0\n",
       "1        349.0\n",
       "2       1899.0\n",
       "3        699.0\n",
       "4        399.0\n",
       "         ...  \n",
       "1460     919.0\n",
       "1461    3045.0\n",
       "1462    3080.0\n",
       "1463    1890.0\n",
       "1464    3690.0\n",
       "Name: actual_price, Length: 1462, dtype: float64"
      ]
     },
     "execution_count": 39,
     "metadata": {},
     "output_type": "execute_result"
    }
   ],
   "source": [
    "df['actual_price']"
   ]
  },
  {
   "cell_type": "code",
   "execution_count": 48,
   "id": "3d76d1f7-11fd-4775-8645-36093e52623a",
   "metadata": {},
   "outputs": [
    {
     "name": "stderr",
     "output_type": "stream",
     "text": [
      "/var/folders/d1/sx4z6pks7174src8mqmf7nkm0000gn/T/ipykernel_22691/2175018135.py:3: UserWarning: \n",
      "\n",
      "`distplot` is a deprecated function and will be removed in seaborn v0.14.0.\n",
      "\n",
      "Please adapt your code to use either `displot` (a figure-level function with\n",
      "similar flexibility) or `histplot` (an axes-level function for histograms).\n",
      "\n",
      "For a guide to updating your code to use the new functions, please see\n",
      "https://gist.github.com/mwaskom/de44147ed2974457ad6372750bbe5751\n",
      "\n",
      "  sns.distplot(df['discounted_price'],kde=True)\n",
      "/var/folders/d1/sx4z6pks7174src8mqmf7nkm0000gn/T/ipykernel_22691/2175018135.py:6: UserWarning: \n",
      "\n",
      "`distplot` is a deprecated function and will be removed in seaborn v0.14.0.\n",
      "\n",
      "Please adapt your code to use either `displot` (a figure-level function with\n",
      "similar flexibility) or `histplot` (an axes-level function for histograms).\n",
      "\n",
      "For a guide to updating your code to use the new functions, please see\n",
      "https://gist.github.com/mwaskom/de44147ed2974457ad6372750bbe5751\n",
      "\n",
      "  sns.distplot(df['actual_price'],kde=True)\n"
     ]
    },
    {
     "data": {
      "image/png": "[encoded data removed]",
      "text/plain": [
       "<Figure size 1600x400 with 2 Axes>"
      ]
     },
     "metadata": {},
     "output_type": "display_data"
    }
   ],
   "source": [
    "plt.figure(figsize=(16,4)) \n",
    "plt.subplot(1,2,1)\n",
    "sns.distplot(df['discounted_price'],kde=True)\n",
    "\n",
    "plt.subplot(1,2,2)\n",
    "sns.distplot(df['actual_price'],kde=True)\n",
    "\n",
    "plt.show()"
   ]
  },
  {
   "cell_type": "code",
   "execution_count": 51,
   "id": "05d1fc8c-1566-4b2a-8ec8-8b9441988a75",
   "metadata": {},
   "outputs": [
    {
     "data": {
      "text/plain": [
       "count      1462.000000\n",
       "mean       5453.087743\n",
       "std       10884.467444\n",
       "min          39.000000\n",
       "25%         800.000000\n",
       "50%        1670.000000\n",
       "75%        4321.250000\n",
       "max      139900.000000\n",
       "Name: actual_price, dtype: float64"
      ]
     },
     "execution_count": 51,
     "metadata": {},
     "output_type": "execute_result"
    }
   ],
   "source": [
    "df['actual_price'].describe()"
   ]
  },
  {
   "cell_type": "code",
   "execution_count": 52,
   "id": "6081f431-d53f-4ccd-9d91-3e45bbac78a0",
   "metadata": {},
   "outputs": [
    {
     "data": {
      "text/plain": [
       "count     1462.000000\n",
       "mean      3129.981826\n",
       "std       6950.548042\n",
       "min         39.000000\n",
       "25%        325.000000\n",
       "50%        799.000000\n",
       "75%       1999.000000\n",
       "max      77990.000000\n",
       "Name: discounted_price, dtype: float64"
      ]
     },
     "execution_count": 52,
     "metadata": {},
     "output_type": "execute_result"
    }
   ],
   "source": [
    "df['discounted_price'].describe()"
   ]
  },
  {
   "cell_type": "code",
   "execution_count": 53,
   "id": "22f5fe62-c282-4507-a590-3880a0e8c941",
   "metadata": {},
   "outputs": [],
   "source": [
    "#Actual and discounted prices are right skewed\n",
    "#Max discounted price is nearing half the actual price\n",
    "#More expensive the product, more the discount"
   ]
  },
  {
   "cell_type": "markdown",
   "id": "bd300894-549d-48c3-b6e1-a7b3e07ae2df",
   "metadata": {},
   "source": [
    "# 4 - How does the average discount percentage vary across categories?"
   ]
  },
  {
   "cell_type": "code",
   "execution_count": 54,
   "id": "d3d71d4e-1e30-43af-be6c-80ca66af8d0d",
   "metadata": {},
   "outputs": [
    {
     "data": {
      "text/plain": [
       "Index(['product_id', 'product_name', 'category', 'discounted_price',\n",
       "       'actual_price', 'discount_percentage', 'rating', 'rating_count',\n",
       "       'about_product', 'user_id', 'user_name', 'review_id', 'review_title',\n",
       "       'review_content', 'img_link', 'product_link'],\n",
       "      dtype='object')"
      ]
     },
     "execution_count": 54,
     "metadata": {},
     "output_type": "execute_result"
    }
   ],
   "source": [
    "df.columns"
   ]
  },
  {
   "cell_type": "code",
   "execution_count": 103,
   "id": "51f6f3ff-3b0b-412d-9bdf-caa0807ee2bb",
   "metadata": {},
   "outputs": [
    {
     "name": "stdout",
     "output_type": "stream",
     "text": [
      "category\n",
      "Car&Motorbike|CarAccessories|InteriorAccessories|AirPurifiers&Ionizers                                                    41.525000\n",
      "Computers&Accessories|Accessories&Peripherals|Adapters|USBtoUSBAdapters                                                   78.387733\n",
      "Computers&Accessories|Accessories&Peripherals|Audio&VideoAccessories|PCHeadsets                                           35.035035\n",
      "Computers&Accessories|Accessories&Peripherals|Audio&VideoAccessories|PCMicrophones                                        56.335120\n",
      "Computers&Accessories|Accessories&Peripherals|Audio&VideoAccessories|PCSpeakers                                           46.719582\n",
      "                                                                                                                            ...    \n",
      "OfficeProducts|OfficePaperProducts|Paper|Stationery|Pens,Pencils&WritingSupplies|Pens&Refills|GelInkRollerballPens         0.000000\n",
      "OfficeProducts|OfficePaperProducts|Paper|Stationery|Pens,Pencils&WritingSupplies|Pens&Refills|LiquidInkRollerballPens      5.000000\n",
      "OfficeProducts|OfficePaperProducts|Paper|Stationery|Pens,Pencils&WritingSupplies|Pens&Refills|RetractableBallpointPens    17.619048\n",
      "OfficeProducts|OfficePaperProducts|Paper|Stationery|Pens,Pencils&WritingSupplies|Pens&Refills|StickBallpointPens          13.074074\n",
      "Toys&Games|Arts&Crafts|Drawing&PaintingSupplies|ColouringPens&Markers                                                      0.000000\n",
      "Name: Discount_Percentage, Length: 211, dtype: float64\n"
     ]
    }
   ],
   "source": [
    "df['Discount_Percentage'] = ((df['actual_price'] - df['discounted_price']) / df['actual_price']) * 100\n",
    "\n",
    "avg_discount_by_category = df.groupby('category')['Discount_Percentage'].mean()\n",
    "\n",
    "print(avg_discount_by_category)"
   ]
  },
  {
   "cell_type": "code",
   "execution_count": 106,
   "id": "e690019c-3253-4c09-8ddb-434621341f73",
   "metadata": {},
   "outputs": [
    {
     "data": {
      "text/html": [
       "<div>\n",
       "<style scoped>\n",
       "    .dataframe tbody tr th:only-of-type {\n",
       "        vertical-align: middle;\n",
       "    }\n",
       "\n",
       "    .dataframe tbody tr th {\n",
       "        vertical-align: top;\n",
       "    }\n",
       "\n",
       "    .dataframe thead th {\n",
       "        text-align: right;\n",
       "    }\n",
       "</style>\n",
       "<table border=\"1\" class=\"dataframe\">\n",
       "  <thead>\n",
       "    <tr style=\"text-align: right;\">\n",
       "      <th></th>\n",
       "      <th>product_id</th>\n",
       "      <th>product_name</th>\n",
       "      <th>category</th>\n",
       "      <th>discounted_price</th>\n",
       "      <th>actual_price</th>\n",
       "      <th>discount_percentage</th>\n",
       "      <th>rating</th>\n",
       "      <th>rating_count</th>\n",
       "      <th>about_product</th>\n",
       "      <th>user_id</th>\n",
       "      <th>user_name</th>\n",
       "      <th>review_id</th>\n",
       "      <th>review_title</th>\n",
       "      <th>review_content</th>\n",
       "      <th>img_link</th>\n",
       "      <th>product_link</th>\n",
       "      <th>Discount_Percentage</th>\n",
       "    </tr>\n",
       "  </thead>\n",
       "  <tbody>\n",
       "    <tr>\n",
       "      <th>1212</th>\n",
       "      <td>B08J7VCT12</td>\n",
       "      <td>KENT 16068 Zoom Vacuum Cleaner for Home and Ca...</td>\n",
       "      <td>Home&amp;Kitchen|Kitchen&amp;HomeAppliances|Vacuum,Cle...</td>\n",
       "      <td>6999.0</td>\n",
       "      <td>14999.0</td>\n",
       "      <td>53%</td>\n",
       "      <td>4.1</td>\n",
       "      <td>1,728</td>\n",
       "      <td>Cordless, Hoseless, and Rechargeable vacuum cl...</td>\n",
       "      <td>AFUZ26ZD32I23WLX6MO6UUGYB6VQ,AHEDAEYXIZIPVLI6H...</td>\n",
       "      <td>tamilarasi,shwetha murthy,Srilaxmi challa,Amaz...</td>\n",
       "      <td>R2IC3MR8NSZXMB,R9DLK5R9IBY7H,R3QAFK08KOEM4X,RX...</td>\n",
       "      <td>Good,Nice,Good product 👌,Get's the job done.,K...</td>\n",
       "      <td>Met expectations,Nice,Nice product..since it's...</td>\n",
       "      <td>https://m.media-amazon.com/images/I/31B24fjfiT...</td>\n",
       "      <td>https://www.amazon.in/Kent-Zoom-Vacuum-Cleaner...</td>\n",
       "      <td>53.336889</td>\n",
       "    </tr>\n",
       "  </tbody>\n",
       "</table>\n",
       "</div>"
      ],
      "text/plain": [
       "      product_id                                       product_name  \\\n",
       "1212  B08J7VCT12  KENT 16068 Zoom Vacuum Cleaner for Home and Ca...   \n",
       "\n",
       "                                               category  discounted_price  \\\n",
       "1212  Home&Kitchen|Kitchen&HomeAppliances|Vacuum,Cle...            6999.0   \n",
       "\n",
       "      actual_price discount_percentage  rating rating_count  \\\n",
       "1212       14999.0                 53%     4.1        1,728   \n",
       "\n",
       "                                          about_product  \\\n",
       "1212  Cordless, Hoseless, and Rechargeable vacuum cl...   \n",
       "\n",
       "                                                user_id  \\\n",
       "1212  AFUZ26ZD32I23WLX6MO6UUGYB6VQ,AHEDAEYXIZIPVLI6H...   \n",
       "\n",
       "                                              user_name  \\\n",
       "1212  tamilarasi,shwetha murthy,Srilaxmi challa,Amaz...   \n",
       "\n",
       "                                              review_id  \\\n",
       "1212  R2IC3MR8NSZXMB,R9DLK5R9IBY7H,R3QAFK08KOEM4X,RX...   \n",
       "\n",
       "                                           review_title  \\\n",
       "1212  Good,Nice,Good product 👌,Get's the job done.,K...   \n",
       "\n",
       "                                         review_content  \\\n",
       "1212  Met expectations,Nice,Nice product..since it's...   \n",
       "\n",
       "                                               img_link  \\\n",
       "1212  https://m.media-amazon.com/images/I/31B24fjfiT...   \n",
       "\n",
       "                                           product_link  Discount_Percentage  \n",
       "1212  https://www.amazon.in/Kent-Zoom-Vacuum-Cleaner...            53.336889  "
      ]
     },
     "execution_count": 106,
     "metadata": {},
     "output_type": "execute_result"
    }
   ],
   "source": [
    "df.sample()"
   ]
  },
  {
   "cell_type": "markdown",
   "id": "41cb4e7b-ab8d-44b4-b021-9730d659504a",
   "metadata": {},
   "source": [
    "# 5 -  What are the most popular product names?"
   ]
  },
  {
   "cell_type": "code",
   "execution_count": 69,
   "id": "2d9d4b1e-8cbb-4568-b7bd-f859f9632a93",
   "metadata": {},
   "outputs": [
    {
     "data": {
      "text/plain": [
       "product_name\n",
       "Fire-Boltt Ninja Call Pro Plus 1.83\" Smart Watch with Bluetooth Calling, AI Voice Assistance, 100 Sports Modes IP67 Rating, 240*280 Pixel High Resolution                                            5\n",
       "Fire-Boltt Phoenix Smart Watch with Bluetooth Calling 1.3\",120+ Sports Modes, 240*240 PX High Res with SpO2, Heart Rate Monitoring & IP67 Rating                                                     4\n",
       "Wayona Nylon Braided USB to Lightning Fast Charging and Data Sync Cable Compatible for iPhone 13, 12,11, X, 8, 7, 6, 5, iPad Air, Pro, Mini (3 FT Pack of 1, Grey)                                   3\n",
       "MI Braided USB Type-C Cable for Charging Adapter (Red)                                                                                                                                               3\n",
       "Ambrane Unbreakable 60W / 3A Fast Charging 1.5m Braided Type C Cable for Smartphones, Tablets, Laptops & other Type C devices, PD Technology, 480Mbps Data Sync, Quick Charge 3.0 (RCT15A, Black)    3\n",
       "Name: count, dtype: int64"
      ]
     },
     "execution_count": 69,
     "metadata": {},
     "output_type": "execute_result"
    }
   ],
   "source": [
    "df['product_name'].value_counts()[:5]"
   ]
  },
  {
   "cell_type": "markdown",
   "id": "5c7d099d-5a83-4620-8594-4938c83c8ece",
   "metadata": {},
   "source": [
    "# 6 -  What are the most popular product keywords?"
   ]
  },
  {
   "cell_type": "code",
   "execution_count": 70,
   "id": "56a76d47-a016-46e5-b1bc-32c7a5fe199f",
   "metadata": {},
   "outputs": [
    {
     "data": {
      "text/plain": [
       "Index(['product_id', 'product_name', 'category', 'discounted_price',\n",
       "       'actual_price', 'discount_percentage', 'rating', 'rating_count',\n",
       "       'about_product', 'user_id', 'user_name', 'review_id', 'review_title',\n",
       "       'review_content', 'img_link', 'product_link'],\n",
       "      dtype='object')"
      ]
     },
     "execution_count": 70,
     "metadata": {},
     "output_type": "execute_result"
    }
   ],
   "source": [
    "df.columns"
   ]
  },
  {
   "cell_type": "code",
   "execution_count": 71,
   "id": "31a01325-0f64-4a86-a66e-b657ecc4efe7",
   "metadata": {},
   "outputs": [
    {
     "data": {
      "text/html": [
       "<div>\n",
       "<style scoped>\n",
       "    .dataframe tbody tr th:only-of-type {\n",
       "        vertical-align: middle;\n",
       "    }\n",
       "\n",
       "    .dataframe tbody tr th {\n",
       "        vertical-align: top;\n",
       "    }\n",
       "\n",
       "    .dataframe thead th {\n",
       "        text-align: right;\n",
       "    }\n",
       "</style>\n",
       "<table border=\"1\" class=\"dataframe\">\n",
       "  <thead>\n",
       "    <tr style=\"text-align: right;\">\n",
       "      <th></th>\n",
       "      <th>product_id</th>\n",
       "      <th>product_name</th>\n",
       "      <th>category</th>\n",
       "      <th>discounted_price</th>\n",
       "      <th>actual_price</th>\n",
       "      <th>discount_percentage</th>\n",
       "      <th>rating</th>\n",
       "      <th>rating_count</th>\n",
       "      <th>about_product</th>\n",
       "      <th>user_id</th>\n",
       "      <th>user_name</th>\n",
       "      <th>review_id</th>\n",
       "      <th>review_title</th>\n",
       "      <th>review_content</th>\n",
       "      <th>img_link</th>\n",
       "      <th>product_link</th>\n",
       "    </tr>\n",
       "  </thead>\n",
       "  <tbody>\n",
       "    <tr>\n",
       "      <th>403</th>\n",
       "      <td>B08Y1TFSP6</td>\n",
       "      <td>pTron Solero TB301 3A Type-C Data and Fast Cha...</td>\n",
       "      <td>Computers&amp;Accessories|Accessories&amp;Peripherals|...</td>\n",
       "      <td>149.0</td>\n",
       "      <td>1000.0</td>\n",
       "      <td>85%</td>\n",
       "      <td>3.9</td>\n",
       "      <td>24,870</td>\n",
       "      <td>Fast Charging &amp; Data Sync: Solero TB301 Type-C...</td>\n",
       "      <td>AEQ2YMXSZWEOHK2EHTNLOS56YTZQ,AGRVINWECNY7323CW...</td>\n",
       "      <td>Jayesh,Rajesh k.,Soopy,amazon customer,Aman,Sh...</td>\n",
       "      <td>R7S8ANNSDPR40,R3CLZFLHVJU26P,RFF7U7MPQFUGR,R1M...</td>\n",
       "      <td>It's pretty good,Average quality,very good and...</td>\n",
       "      <td>It's a good product.,Like,Very good item stron...</td>\n",
       "      <td>https://m.media-amazon.com/images/I/31wOPjcSxl...</td>\n",
       "      <td>https://www.amazon.in/Solero-TB301-Charging-48...</td>\n",
       "    </tr>\n",
       "  </tbody>\n",
       "</table>\n",
       "</div>"
      ],
      "text/plain": [
       "     product_id                                       product_name  \\\n",
       "403  B08Y1TFSP6  pTron Solero TB301 3A Type-C Data and Fast Cha...   \n",
       "\n",
       "                                              category  discounted_price  \\\n",
       "403  Computers&Accessories|Accessories&Peripherals|...             149.0   \n",
       "\n",
       "     actual_price discount_percentage  rating rating_count  \\\n",
       "403        1000.0                 85%     3.9       24,870   \n",
       "\n",
       "                                         about_product  \\\n",
       "403  Fast Charging & Data Sync: Solero TB301 Type-C...   \n",
       "\n",
       "                                               user_id  \\\n",
       "403  AEQ2YMXSZWEOHK2EHTNLOS56YTZQ,AGRVINWECNY7323CW...   \n",
       "\n",
       "                                             user_name  \\\n",
       "403  Jayesh,Rajesh k.,Soopy,amazon customer,Aman,Sh...   \n",
       "\n",
       "                                             review_id  \\\n",
       "403  R7S8ANNSDPR40,R3CLZFLHVJU26P,RFF7U7MPQFUGR,R1M...   \n",
       "\n",
       "                                          review_title  \\\n",
       "403  It's pretty good,Average quality,very good and...   \n",
       "\n",
       "                                        review_content  \\\n",
       "403  It's a good product.,Like,Very good item stron...   \n",
       "\n",
       "                                              img_link  \\\n",
       "403  https://m.media-amazon.com/images/I/31wOPjcSxl...   \n",
       "\n",
       "                                          product_link  \n",
       "403  https://www.amazon.in/Solero-TB301-Charging-48...  "
      ]
     },
     "execution_count": 71,
     "metadata": {},
     "output_type": "execute_result"
    }
   ],
   "source": [
    "df.sample()"
   ]
  },
  {
   "cell_type": "code",
   "execution_count": 129,
   "id": "c8af544a-210b-4e14-a2d7-e50727bc1768",
   "metadata": {},
   "outputs": [
    {
     "data": {
      "text/plain": [
       "[('with', 716),\n",
       " ('for', 614),\n",
       " ('|', 456),\n",
       " ('&', 431),\n",
       " ('USB', 342),\n",
       " ('and', 309),\n",
       " ('Cable', 304),\n",
       " ('-', 218),\n",
       " ('Charging', 210),\n",
       " ('Fast', 206)]"
      ]
     },
     "execution_count": 129,
     "metadata": {},
     "output_type": "execute_result"
    }
   ],
   "source": [
    "from collections import Counter\n",
    "import re\n",
    "\n",
    "words = Counter(\" \".join(df[\"product_name\"]).split()).most_common(10)\n",
    "words"
   ]
  },
  {
   "cell_type": "markdown",
   "id": "86c39bd9-3019-4870-9465-1da263854c25",
   "metadata": {},
   "source": [
    "# 7 - What are the most popular product reviews?"
   ]
  },
  {
   "cell_type": "code",
   "execution_count": 73,
   "id": "cead7b14-7dce-427c-88cb-897f80fd0efa",
   "metadata": {},
   "outputs": [
    {
     "data": {
      "text/plain": [
       "review_content\n",
       "I am not big on camera usage, personally. I was even mentally prepared for a bad camera, based on some reviews here. But I was pleasantly surprised that camera clicks good photos. They are not awesome, but they are decent photos that can even be shared.Now coming to my biggest grouse; heating issue. The phone started heating up while charging, but it was just a little and so I could have ignored it. But then it started heating up more and got me very concerned. I even ordered a replacement thinking I got a defective piece. But then, after further tests, I found that it is heating more when I download huge amounts of data, for example, when I restore data of my old phone, from back up. This is ok with me as, I don't perform huge data loads regularly, definitely not on phone. Then I tested by running tasks I usually perform such as checking office mails, attending office meeting on phone, watching a video from Amazon Prime, and so on. The phone did not heat up even a little. Personally, this is good for me.At this price range, this is a good phone. But if you are camera heavy user and expect to perform heavy downloads frequently, this phone may not for you. I am personally satisfied with this phone as it works for my type of usage. I will not go into plus points of this phone as they are covered by other reviews already. I am only attempting to clarify about how this phone can suit you (or not) in terms of camera and heating. I had many questions about these aspects before buying. Perhaps this review will help you make an informed decision to buy (or avoid). Cheers.,Display - BeautyCamera - decentPerformance - AmazingBattery - ok (in 5000mah u expect more tbh)Overall good phone...Also after 1day of use, i found some network connectivity issue in my jiosim, which I'm using right now in this phone, but I'll keep update this review after 1month of usage!,It's a decent mobile under this price but few things worried me , weight of the phone, too many procedure to change some settings, no screen casting. Apart from that it has good touch, a decent camera for day light , battery life is good.,I bought this smartphone for my mom. Samusung interface is very handful for easy use. Battery is superb, last whole day. Camera is mediocre but provide original colour pictures. All in all satisfied with this smartphone that i got in sale for 9499.,Unable to do video call within same service provider as in VOLTE within same service provider video call feature is available.,Product is fine.  Nothing Fancy but for the budget it is a good phone.,BATTERY : more than enough for normal use  Not sure in gamingCAMERA : good in this segment , can record  videos in FHD 30fpsDISPLAY : since it's a LCD display the quality is  a bit less , but goodV RAM : you can add upto 2gb of virtual ram  but have to sacrifice your storage  Space to use it  OVERALL A GOOD BUDGET PHONE,Finger print is working speedy battery backup is good camera quality is also good    8\n",
       "I ordered this cable to connect my phone to Android Auto of car. The cable is really strong and the connection ports are really well made. I already has a Micro USB cable from Ambrane and it's still in good shape. I connected my phone to the car using the cable and it got connected well and no issues. I also connected it to the charging port and yes it has Fast Charging support.,It quality is good at this price and the main thing is that i didn't ever thought that this cable will be so long it's good one and charging power is too good and also supports fast charging,Value for money, with extra length👍,Good, working fine,Product quality is good,Good,very good,Bought for my daughter's old phone.Brand new cable it was not charging, I already repacked and requested for replacement.I checked again, and there was some green colour paste/fungus inside the micro USB connector. I cleaned with an alcoholic and starts working again.Checked the ampere of charging speed got around 1400ma-1500ma - not bad, came with braided 1.5m long cable, pretty impressive for the price.Can't blame the manufacturer.But quality issues by the distributor, they might have stored in very humid place.                                                                                                                                                                                                                                                                                                                                                                                                                                                                                                                                                                                                                                                                                                                                                                                                                                                                                                                                                                                                                                                                                                                                                                                                                                                                                                                                                                                                                                                                                                                                                                                                                                                                                                                                                                                                                                                             7\n",
       "Good product,long wire,Charges good,Nice,I bought this cable for Rs.339 worthy product for this price, i tested it in various charger adapters 33w and 18w it supports fast charging as well.,Good,Ok,I had got this at good price on sale on Amazon and product is useful with warranty but for warranty you need to go very far not practical for such a cost and mine micro to type c connector stopped working after few days only.,I like this product                                                                                                                                                                                                                                                                                                                                                                                                                                                                                                                                                                                                                                                                                                                                                                                                                                                                                                                                                                                                                                                                                                                                                                                                                                                                                                                                                                                                                                                                                                                                                                                                                                                                                                                                                                                                                                                                                                                                                                                                                                                                                                                                                                                                                                                                                                                                                                                                                                                                                                                                                                                                                                    7\n",
       "Worked on iPhone 7 and didn’t work on iPhone XR,https://m.media-amazon.com/images/I/71qFFAlV9ZL._SY88.jpg,Look-wise, I didn’t like it. Still, I use it for my work.,Product is quite good and is fast charging.Loved it.,I like it . Looks last long.,The sturdiness will depend on the manner of its use. But its speed of charging is great. Very good product for the average income group.,It's great for charging devices with various types of ports. But works best when charging one device at a time.,Good item.                                                                                                                                                                                                                                                                                                                                                                                                                                                                                                                                                                                                                                                                                                                                                                                                                                                                                                                                                                                                                                                                                                                                                                                                                                                                                                                                                                                                                                                                                                                                                                                                                                                                                                                                                                                                                                                                                                                                                                                                                                                                                                                                                                                                                                                                                                                                                                                                                                                                                                                                                                      7\n",
       "128GB SD Card is showing 134GBDon't buy this product,It was a bit costly but prouduct is of great quality. Could have been made little bit cheaper cost wise.,All good,Fast and smooth,Ab mujhe computer ki jarurat nahi padti,Speed is fast but not as advertise I get around read speed 70MB/s and write speed 30MB/s,Good one,Product is ok.                                                                                                                                                                                                                                                                                                                                                                                                                                                                                                                                                                                                                                                                                                                                                                                                                                                                                                                                                                                                                                                                                                                                                                                                                                                                                                                                                                                                                                                                                                                                                                                                                                                                                                                                                                                                                                                                                                                                                                                                                                                                                                                                                                                                                                                                                                                                                                                                                                                                                                                                                                                                                                                                                                                                                6\n",
       "Name: count, dtype: int64"
      ]
     },
     "execution_count": 73,
     "metadata": {},
     "output_type": "execute_result"
    }
   ],
   "source": [
    "df['review_content'].value_counts()[:5]"
   ]
  },
  {
   "cell_type": "markdown",
   "id": "7aba274c-6fa3-4619-8064-1499d17802c9",
   "metadata": {},
   "source": [
    "# 8 -  What is the correlation between discounted_price and rating?"
   ]
  },
  {
   "cell_type": "code",
   "execution_count": 81,
   "id": "4f6e7b8b-36e3-45ab-b40b-a43f64b74f88",
   "metadata": {},
   "outputs": [
    {
     "data": {
      "text/plain": [
       "Index(['product_id', 'product_name', 'category', 'discounted_price',\n",
       "       'actual_price', 'discount_percentage', 'rating', 'rating_count',\n",
       "       'about_product', 'user_id', 'user_name', 'review_id', 'review_title',\n",
       "       'review_content', 'img_link', 'product_link'],\n",
       "      dtype='object')"
      ]
     },
     "execution_count": 81,
     "metadata": {},
     "output_type": "execute_result"
    }
   ],
   "source": [
    "df.columns"
   ]
  },
  {
   "cell_type": "code",
   "execution_count": 86,
   "id": "dec4f0d2-fbc4-45c7-a630-b546cbbe45a1",
   "metadata": {},
   "outputs": [
    {
     "data": {
      "text/html": [
       "<div>\n",
       "<style scoped>\n",
       "    .dataframe tbody tr th:only-of-type {\n",
       "        vertical-align: middle;\n",
       "    }\n",
       "\n",
       "    .dataframe tbody tr th {\n",
       "        vertical-align: top;\n",
       "    }\n",
       "\n",
       "    .dataframe thead th {\n",
       "        text-align: right;\n",
       "    }\n",
       "</style>\n",
       "<table border=\"1\" class=\"dataframe\">\n",
       "  <thead>\n",
       "    <tr style=\"text-align: right;\">\n",
       "      <th></th>\n",
       "      <th>discounted_price</th>\n",
       "      <th>rating</th>\n",
       "    </tr>\n",
       "  </thead>\n",
       "  <tbody>\n",
       "    <tr>\n",
       "      <th>discounted_price</th>\n",
       "      <td>1.000000</td>\n",
       "      <td>0.121132</td>\n",
       "    </tr>\n",
       "    <tr>\n",
       "      <th>rating</th>\n",
       "      <td>0.121132</td>\n",
       "      <td>1.000000</td>\n",
       "    </tr>\n",
       "  </tbody>\n",
       "</table>\n",
       "</div>"
      ],
      "text/plain": [
       "                  discounted_price    rating\n",
       "discounted_price          1.000000  0.121132\n",
       "rating                    0.121132  1.000000"
      ]
     },
     "execution_count": 86,
     "metadata": {},
     "output_type": "execute_result"
    }
   ],
   "source": [
    "req_df=df[['discounted_price','rating']]\n",
    "req_df.corr()"
   ]
  },
  {
   "cell_type": "code",
   "execution_count": 87,
   "id": "c72bf210-8f17-4812-afde-364b5fa65a27",
   "metadata": {},
   "outputs": [],
   "source": [
    "#Slight positive correlation of 0.12 between discounted price and rating"
   ]
  },
  {
   "cell_type": "markdown",
   "id": "714f6e37-b543-410e-8330-00284b07e89f",
   "metadata": {},
   "source": [
    "# 9 - What are the Top 5 categories based on the highest ratings?"
   ]
  },
  {
   "cell_type": "code",
   "execution_count": 97,
   "id": "2ed7e8ba-5cf8-4091-97ae-8b27764023a8",
   "metadata": {},
   "outputs": [],
   "source": [
    "grouped=df.groupby('category')['rating'].mean()"
   ]
  },
  {
   "cell_type": "code",
   "execution_count": 98,
   "id": "cd880115-4eba-4b97-936e-88280678fcc1",
   "metadata": {},
   "outputs": [
    {
     "data": {
      "text/plain": [
       "category\n",
       "Computers&Accessories|Tablets                                               4.6\n",
       "Computers&Accessories|Components|Memory                                     4.5\n",
       "Computers&Accessories|NetworkingDevices|NetworkAdapters|PowerLANAdapters    4.5\n",
       "Electronics|Cameras&Photography|Accessories|Film                            4.5\n",
       "Electronics|HomeAudio|MediaStreamingDevices|StreamingClients                4.5\n",
       "Name: rating, dtype: float64"
      ]
     },
     "execution_count": 98,
     "metadata": {},
     "output_type": "execute_result"
    }
   ],
   "source": [
    "grouped.nlargest(5)"
   ]
  },
  {
   "cell_type": "markdown",
   "id": "492fc997-0ffb-40fb-9e99-8f8b8dbd0615",
   "metadata": {},
   "source": [
    "# 10 - Identify any potential areas for improvement or optimization based on the data analysis."
   ]
  },
  {
   "cell_type": "code",
   "execution_count": 130,
   "id": "689e1afc-782f-4139-bc96-1fac4029353e",
   "metadata": {},
   "outputs": [],
   "source": [
    "#Conduct a thorough analysis of patterns, trends, and anomalies within the dataset. This could involve exploring relationships \n",
    "#between variables, such as the impact of discount percentage on sales volume or customer ratings, and identifying outliers or \n",
    "#underperforming categories. Based on these insights, recommendations could be made to enhance product offerings, adjust pricing \n",
    "#strategies, or improve customer engagement efforts."
   ]
  }
 ],
 "metadata": {
  "kernelspec": {
   "display_name": "Python 3 (ipykernel)",
   "language": "python",
   "name": "python3"
  },
  "language_info": {
   "codemirror_mode": {
    "name": "ipython",
    "version": 3
   },
   "file_extension": ".py",
   "mimetype": "text/x-python",
   "name": "python",
   "nbconvert_exporter": "python",
   "pygments_lexer": "ipython3",
   "version": "3.11.6"
  }
 },
 "nbformat": 4,
 "nbformat_minor": 5
}
