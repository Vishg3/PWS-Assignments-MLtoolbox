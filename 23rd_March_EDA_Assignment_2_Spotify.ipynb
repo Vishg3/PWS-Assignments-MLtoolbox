{
 "cells": [
  {
   "cell_type": "markdown",
   "id": "3d80291c-aea5-4621-8dbf-07c9c45850d9",
   "metadata": {},
   "source": [
    "# Assignment - EDA Assignment 2 - Spotify"
   ]
  },
  {
   "cell_type": "code",
   "execution_count": 1,
   "id": "f447fd78-c25a-40c0-a7d8-85658cef234c",
   "metadata": {},
   "outputs": [],
   "source": [
    "import numpy as np\n",
    "import pandas as pd\n",
    "import matplotlib.pyplot as plt\n",
    "import seaborn as sns\n",
    "\n",
    "%matplotlib inline"
   ]
  },
  {
   "cell_type": "code",
   "execution_count": 2,
   "id": "85a6dbfe-b332-489a-8936-b56ab96640c9",
   "metadata": {},
   "outputs": [],
   "source": [
    "df=pd.read_csv('spotify.csv')"
   ]
  },
  {
   "cell_type": "code",
   "execution_count": 3,
   "id": "3bf45194-dbbf-4a03-b233-253647eb6e3a",
   "metadata": {},
   "outputs": [
    {
     "data": {
      "text/html": [
       "<div>\n",
       "<style scoped>\n",
       "    .dataframe tbody tr th:only-of-type {\n",
       "        vertical-align: middle;\n",
       "    }\n",
       "\n",
       "    .dataframe tbody tr th {\n",
       "        vertical-align: top;\n",
       "    }\n",
       "\n",
       "    .dataframe thead th {\n",
       "        text-align: right;\n",
       "    }\n",
       "</style>\n",
       "<table border=\"1\" class=\"dataframe\">\n",
       "  <thead>\n",
       "    <tr style=\"text-align: right;\">\n",
       "      <th></th>\n",
       "      <th>Artist</th>\n",
       "      <th>Track Name</th>\n",
       "      <th>Popularity</th>\n",
       "      <th>Duration (ms)</th>\n",
       "      <th>Track ID</th>\n",
       "    </tr>\n",
       "  </thead>\n",
       "  <tbody>\n",
       "    <tr>\n",
       "      <th>0</th>\n",
       "      <td>Drake</td>\n",
       "      <td>Rich Baby Daddy (feat. Sexyy Red &amp; SZA)</td>\n",
       "      <td>92</td>\n",
       "      <td>319191</td>\n",
       "      <td>1yeB8MUNeLo9Ek1UEpsyz6</td>\n",
       "    </tr>\n",
       "    <tr>\n",
       "      <th>1</th>\n",
       "      <td>Drake</td>\n",
       "      <td>One Dance</td>\n",
       "      <td>91</td>\n",
       "      <td>173986</td>\n",
       "      <td>1zi7xx7UVEFkmKfv06H8x0</td>\n",
       "    </tr>\n",
       "    <tr>\n",
       "      <th>2</th>\n",
       "      <td>Drake</td>\n",
       "      <td>IDGAF (feat. Yeat)</td>\n",
       "      <td>90</td>\n",
       "      <td>260111</td>\n",
       "      <td>2YSzYUF3jWqb9YP9VXmpjE</td>\n",
       "    </tr>\n",
       "    <tr>\n",
       "      <th>3</th>\n",
       "      <td>Drake</td>\n",
       "      <td>First Person Shooter (feat. J. Cole)</td>\n",
       "      <td>88</td>\n",
       "      <td>247444</td>\n",
       "      <td>7aqfrAY2p9BUSiupwk3svU</td>\n",
       "    </tr>\n",
       "    <tr>\n",
       "      <th>4</th>\n",
       "      <td>Drake</td>\n",
       "      <td>Jimmy Cooks (feat. 21 Savage)</td>\n",
       "      <td>88</td>\n",
       "      <td>218364</td>\n",
       "      <td>3F5CgOj3wFlRv51JsHbxhe</td>\n",
       "    </tr>\n",
       "  </tbody>\n",
       "</table>\n",
       "</div>"
      ],
      "text/plain": [
       "  Artist                               Track Name  Popularity  Duration (ms)  \\\n",
       "0  Drake  Rich Baby Daddy (feat. Sexyy Red & SZA)          92         319191   \n",
       "1  Drake                                One Dance          91         173986   \n",
       "2  Drake                       IDGAF (feat. Yeat)          90         260111   \n",
       "3  Drake     First Person Shooter (feat. J. Cole)          88         247444   \n",
       "4  Drake            Jimmy Cooks (feat. 21 Savage)          88         218364   \n",
       "\n",
       "                 Track ID  \n",
       "0  1yeB8MUNeLo9Ek1UEpsyz6  \n",
       "1  1zi7xx7UVEFkmKfv06H8x0  \n",
       "2  2YSzYUF3jWqb9YP9VXmpjE  \n",
       "3  7aqfrAY2p9BUSiupwk3svU  \n",
       "4  3F5CgOj3wFlRv51JsHbxhe  "
      ]
     },
     "execution_count": 3,
     "metadata": {},
     "output_type": "execute_result"
    }
   ],
   "source": [
    "df.head()"
   ]
  },
  {
   "cell_type": "code",
   "execution_count": 4,
   "id": "f1497f93-df9c-436e-93e1-4ffaad532676",
   "metadata": {},
   "outputs": [
    {
     "data": {
      "text/plain": [
       "(440, 5)"
      ]
     },
     "execution_count": 4,
     "metadata": {},
     "output_type": "execute_result"
    }
   ],
   "source": [
    "df.shape"
   ]
  },
  {
   "cell_type": "code",
   "execution_count": 5,
   "id": "2b9eda8c-2fd9-4875-895f-53c61c40fbd0",
   "metadata": {},
   "outputs": [
    {
     "data": {
      "text/plain": [
       "Artist           object\n",
       "Track Name       object\n",
       "Popularity        int64\n",
       "Duration (ms)     int64\n",
       "Track ID         object\n",
       "dtype: object"
      ]
     },
     "execution_count": 5,
     "metadata": {},
     "output_type": "execute_result"
    }
   ],
   "source": [
    "df.dtypes"
   ]
  },
  {
   "cell_type": "code",
   "execution_count": 6,
   "id": "2a007341-b64e-4c8d-932b-b7f1bad051cc",
   "metadata": {},
   "outputs": [
    {
     "name": "stdout",
     "output_type": "stream",
     "text": [
      "<class 'pandas.core.frame.DataFrame'>\n",
      "RangeIndex: 440 entries, 0 to 439\n",
      "Data columns (total 5 columns):\n",
      " #   Column         Non-Null Count  Dtype \n",
      "---  ------         --------------  ----- \n",
      " 0   Artist         440 non-null    object\n",
      " 1   Track Name     440 non-null    object\n",
      " 2   Popularity     440 non-null    int64 \n",
      " 3   Duration (ms)  440 non-null    int64 \n",
      " 4   Track ID       440 non-null    object\n",
      "dtypes: int64(2), object(3)\n",
      "memory usage: 17.3+ KB\n"
     ]
    }
   ],
   "source": [
    "df.info()"
   ]
  },
  {
   "cell_type": "code",
   "execution_count": 7,
   "id": "d80aa934-2da4-42e4-b80f-f7fcb94f1089",
   "metadata": {},
   "outputs": [
    {
     "data": {
      "text/plain": [
       "Artist           0\n",
       "Track Name       0\n",
       "Popularity       0\n",
       "Duration (ms)    0\n",
       "Track ID         0\n",
       "dtype: int64"
      ]
     },
     "execution_count": 7,
     "metadata": {},
     "output_type": "execute_result"
    }
   ],
   "source": [
    "df.isnull().sum()"
   ]
  },
  {
   "cell_type": "code",
   "execution_count": 8,
   "id": "8943fd14-4071-4dd1-a333-5bbdc5a8e45b",
   "metadata": {},
   "outputs": [
    {
     "data": {
      "text/plain": [
       "27"
      ]
     },
     "execution_count": 8,
     "metadata": {},
     "output_type": "execute_result"
    }
   ],
   "source": [
    "df.duplicated().sum()"
   ]
  },
  {
   "cell_type": "code",
   "execution_count": 9,
   "id": "7df7590a-5672-4297-9647-b241e887b354",
   "metadata": {},
   "outputs": [
    {
     "data": {
      "text/html": [
       "<div>\n",
       "<style scoped>\n",
       "    .dataframe tbody tr th:only-of-type {\n",
       "        vertical-align: middle;\n",
       "    }\n",
       "\n",
       "    .dataframe tbody tr th {\n",
       "        vertical-align: top;\n",
       "    }\n",
       "\n",
       "    .dataframe thead th {\n",
       "        text-align: right;\n",
       "    }\n",
       "</style>\n",
       "<table border=\"1\" class=\"dataframe\">\n",
       "  <thead>\n",
       "    <tr style=\"text-align: right;\">\n",
       "      <th></th>\n",
       "      <th>Artist</th>\n",
       "      <th>Track Name</th>\n",
       "      <th>Popularity</th>\n",
       "      <th>Duration (ms)</th>\n",
       "      <th>Track ID</th>\n",
       "    </tr>\n",
       "  </thead>\n",
       "  <tbody>\n",
       "    <tr>\n",
       "      <th>39</th>\n",
       "      <td>Travis Scott</td>\n",
       "      <td>MELTDOWN (feat. Drake)</td>\n",
       "      <td>86</td>\n",
       "      <td>246133</td>\n",
       "      <td>67nepsnrcZkowTxMWigSbb</td>\n",
       "    </tr>\n",
       "    <tr>\n",
       "      <th>52</th>\n",
       "      <td>Travis Scott</td>\n",
       "      <td>TELEKINESIS (feat. SZA &amp; Future)</td>\n",
       "      <td>86</td>\n",
       "      <td>353754</td>\n",
       "      <td>1i9lZvlaDdWDPyXEE95aiq</td>\n",
       "    </tr>\n",
       "    <tr>\n",
       "      <th>72</th>\n",
       "      <td>21 Savage</td>\n",
       "      <td>née-nah</td>\n",
       "      <td>88</td>\n",
       "      <td>220584</td>\n",
       "      <td>2yUzr8Sr6ldG8vmHhZwTnz</td>\n",
       "    </tr>\n",
       "    <tr>\n",
       "      <th>73</th>\n",
       "      <td>Drake</td>\n",
       "      <td>Jimmy Cooks (feat. 21 Savage)</td>\n",
       "      <td>88</td>\n",
       "      <td>218364</td>\n",
       "      <td>3F5CgOj3wFlRv51JsHbxhe</td>\n",
       "    </tr>\n",
       "    <tr>\n",
       "      <th>76</th>\n",
       "      <td>Drake</td>\n",
       "      <td>Rich Flex</td>\n",
       "      <td>85</td>\n",
       "      <td>239359</td>\n",
       "      <td>1bDbXMyjaUIooNwFE9wn0N</td>\n",
       "    </tr>\n",
       "    <tr>\n",
       "      <th>131</th>\n",
       "      <td>Drake</td>\n",
       "      <td>First Person Shooter (feat. J. Cole)</td>\n",
       "      <td>88</td>\n",
       "      <td>247444</td>\n",
       "      <td>7aqfrAY2p9BUSiupwk3svU</td>\n",
       "    </tr>\n",
       "    <tr>\n",
       "      <th>170</th>\n",
       "      <td>Metro Boomin</td>\n",
       "      <td>Trance (with Travis Scott &amp; Young Thug)</td>\n",
       "      <td>89</td>\n",
       "      <td>194786</td>\n",
       "      <td>5wG3HvLhF6Y5KTGlK0IW3J</td>\n",
       "    </tr>\n",
       "    <tr>\n",
       "      <th>182</th>\n",
       "      <td>D-Block Europe</td>\n",
       "      <td>Overseas</td>\n",
       "      <td>74</td>\n",
       "      <td>222154</td>\n",
       "      <td>337kcYVjYXdLBItCw9ry3b</td>\n",
       "    </tr>\n",
       "    <tr>\n",
       "      <th>210</th>\n",
       "      <td>Post Malone</td>\n",
       "      <td>Sunflower - Spider-Man: Into the Spider-Verse</td>\n",
       "      <td>87</td>\n",
       "      <td>157560</td>\n",
       "      <td>0RiRZpuVRbi7oqRdSMwhQY</td>\n",
       "    </tr>\n",
       "    <tr>\n",
       "      <th>212</th>\n",
       "      <td>Metro Boomin</td>\n",
       "      <td>Annihilate (Spider-Man: Across the Spider-Vers...</td>\n",
       "      <td>79</td>\n",
       "      <td>231746</td>\n",
       "      <td>39MK3d3fonIP8Mz9oHCTBB</td>\n",
       "    </tr>\n",
       "    <tr>\n",
       "      <th>222</th>\n",
       "      <td>Cardi B</td>\n",
       "      <td>WAP (feat. Megan Thee Stallion)</td>\n",
       "      <td>80</td>\n",
       "      <td>187541</td>\n",
       "      <td>4Oun2ylbjFKMPTiaSbbCih</td>\n",
       "    </tr>\n",
       "    <tr>\n",
       "      <th>224</th>\n",
       "      <td>Cardi B</td>\n",
       "      <td>Bongos (feat. Megan Thee Stallion)</td>\n",
       "      <td>78</td>\n",
       "      <td>175099</td>\n",
       "      <td>4YQImHflXSiIMXntcwPkx8</td>\n",
       "    </tr>\n",
       "    <tr>\n",
       "      <th>242</th>\n",
       "      <td>Bizarrap</td>\n",
       "      <td>Quevedo: Bzrp Music Sessions, Vol. 52</td>\n",
       "      <td>87</td>\n",
       "      <td>198937</td>\n",
       "      <td>2tTmW7RDtMQtBk7m2rYeSw</td>\n",
       "    </tr>\n",
       "    <tr>\n",
       "      <th>270</th>\n",
       "      <td>Lil Durk</td>\n",
       "      <td>All My Life (feat. J. Cole)</td>\n",
       "      <td>74</td>\n",
       "      <td>223878</td>\n",
       "      <td>6T7FXSuXykeGktMLGp8WgE</td>\n",
       "    </tr>\n",
       "    <tr>\n",
       "      <th>280</th>\n",
       "      <td>¥$</td>\n",
       "      <td>CARNIVAL</td>\n",
       "      <td>96</td>\n",
       "      <td>264324</td>\n",
       "      <td>3w0w2T288dec0mgeZZqoNN</td>\n",
       "    </tr>\n",
       "    <tr>\n",
       "      <th>282</th>\n",
       "      <td>Travis Scott</td>\n",
       "      <td>FE!N (feat. Playboi Carti)</td>\n",
       "      <td>93</td>\n",
       "      <td>191700</td>\n",
       "      <td>42VsgItocQwOQC3XWZ8JNA</td>\n",
       "    </tr>\n",
       "    <tr>\n",
       "      <th>290</th>\n",
       "      <td>Lil Baby</td>\n",
       "      <td>Drip Too Hard (Lil Baby &amp; Gunna)</td>\n",
       "      <td>85</td>\n",
       "      <td>145542</td>\n",
       "      <td>78QR3Wp35dqAhFEc2qAGjE</td>\n",
       "    </tr>\n",
       "    <tr>\n",
       "      <th>297</th>\n",
       "      <td>Quality Control</td>\n",
       "      <td>Baby (Lil Baby feat. DaBaby)</td>\n",
       "      <td>77</td>\n",
       "      <td>142417</td>\n",
       "      <td>5MPPttjfGap2C6j6eKcO6J</td>\n",
       "    </tr>\n",
       "    <tr>\n",
       "      <th>310</th>\n",
       "      <td>Lil Nas X</td>\n",
       "      <td>INDUSTRY BABY (feat. Jack Harlow)</td>\n",
       "      <td>78</td>\n",
       "      <td>212352</td>\n",
       "      <td>5Z9KJZvQzH6PFmb8SNkxuk</td>\n",
       "    </tr>\n",
       "    <tr>\n",
       "      <th>331</th>\n",
       "      <td>Nicki Minaj</td>\n",
       "      <td>Everybody (feat. Lil Uzi Vert)</td>\n",
       "      <td>84</td>\n",
       "      <td>180869</td>\n",
       "      <td>5ZJGv7aGdIr9IGpxzSG18T</td>\n",
       "    </tr>\n",
       "    <tr>\n",
       "      <th>341</th>\n",
       "      <td>Snoop Dogg</td>\n",
       "      <td>Young, Wild &amp; Free (feat. Bruno Mars)</td>\n",
       "      <td>70</td>\n",
       "      <td>207346</td>\n",
       "      <td>6YbhspuOar1D9WSSnfe7ds</td>\n",
       "    </tr>\n",
       "    <tr>\n",
       "      <th>343</th>\n",
       "      <td>Lil Wayne</td>\n",
       "      <td>Sucker for Pain (with Wiz Khalifa, Imagine Dra...</td>\n",
       "      <td>77</td>\n",
       "      <td>243490</td>\n",
       "      <td>4dASQiO1Eoo3RJvt74FtXB</td>\n",
       "    </tr>\n",
       "    <tr>\n",
       "      <th>352</th>\n",
       "      <td>Nicki Minaj</td>\n",
       "      <td>Barbie World (with Aqua) [From Barbie The Album]</td>\n",
       "      <td>83</td>\n",
       "      <td>109750</td>\n",
       "      <td>741UUVE2kuITl0c6zuqqbO</td>\n",
       "    </tr>\n",
       "    <tr>\n",
       "      <th>422</th>\n",
       "      <td>Metro Boomin</td>\n",
       "      <td>Annihilate (Spider-Man: Across the Spider-Vers...</td>\n",
       "      <td>79</td>\n",
       "      <td>231746</td>\n",
       "      <td>39MK3d3fonIP8Mz9oHCTBB</td>\n",
       "    </tr>\n",
       "    <tr>\n",
       "      <th>430</th>\n",
       "      <td>French Montana</td>\n",
       "      <td>Unforgettable</td>\n",
       "      <td>87</td>\n",
       "      <td>233901</td>\n",
       "      <td>3B54sVLJ402zGa6Xm4YGNe</td>\n",
       "    </tr>\n",
       "    <tr>\n",
       "      <th>435</th>\n",
       "      <td>French Montana</td>\n",
       "      <td>Splash Brothers</td>\n",
       "      <td>44</td>\n",
       "      <td>221863</td>\n",
       "      <td>3fBsEOnzwtlkpS0LxXAZhN</td>\n",
       "    </tr>\n",
       "    <tr>\n",
       "      <th>439</th>\n",
       "      <td>Rick Ross</td>\n",
       "      <td>Stay Schemin</td>\n",
       "      <td>68</td>\n",
       "      <td>267720</td>\n",
       "      <td>0nq6sfr8z1R5KJ4XUk396e</td>\n",
       "    </tr>\n",
       "  </tbody>\n",
       "</table>\n",
       "</div>"
      ],
      "text/plain": [
       "              Artist                                         Track Name  \\\n",
       "39      Travis Scott                             MELTDOWN (feat. Drake)   \n",
       "52      Travis Scott                   TELEKINESIS (feat. SZA & Future)   \n",
       "72         21 Savage                                            née-nah   \n",
       "73             Drake                      Jimmy Cooks (feat. 21 Savage)   \n",
       "76             Drake                                          Rich Flex   \n",
       "131            Drake               First Person Shooter (feat. J. Cole)   \n",
       "170     Metro Boomin            Trance (with Travis Scott & Young Thug)   \n",
       "182   D-Block Europe                                           Overseas   \n",
       "210      Post Malone      Sunflower - Spider-Man: Into the Spider-Verse   \n",
       "212     Metro Boomin  Annihilate (Spider-Man: Across the Spider-Vers...   \n",
       "222          Cardi B                    WAP (feat. Megan Thee Stallion)   \n",
       "224          Cardi B                 Bongos (feat. Megan Thee Stallion)   \n",
       "242         Bizarrap              Quevedo: Bzrp Music Sessions, Vol. 52   \n",
       "270         Lil Durk                        All My Life (feat. J. Cole)   \n",
       "280               ¥$                                           CARNIVAL   \n",
       "282     Travis Scott                         FE!N (feat. Playboi Carti)   \n",
       "290         Lil Baby                   Drip Too Hard (Lil Baby & Gunna)   \n",
       "297  Quality Control                       Baby (Lil Baby feat. DaBaby)   \n",
       "310        Lil Nas X                  INDUSTRY BABY (feat. Jack Harlow)   \n",
       "331      Nicki Minaj                     Everybody (feat. Lil Uzi Vert)   \n",
       "341       Snoop Dogg              Young, Wild & Free (feat. Bruno Mars)   \n",
       "343        Lil Wayne  Sucker for Pain (with Wiz Khalifa, Imagine Dra...   \n",
       "352      Nicki Minaj   Barbie World (with Aqua) [From Barbie The Album]   \n",
       "422     Metro Boomin  Annihilate (Spider-Man: Across the Spider-Vers...   \n",
       "430   French Montana                                      Unforgettable   \n",
       "435   French Montana                                    Splash Brothers   \n",
       "439        Rick Ross                                       Stay Schemin   \n",
       "\n",
       "     Popularity  Duration (ms)                Track ID  \n",
       "39           86         246133  67nepsnrcZkowTxMWigSbb  \n",
       "52           86         353754  1i9lZvlaDdWDPyXEE95aiq  \n",
       "72           88         220584  2yUzr8Sr6ldG8vmHhZwTnz  \n",
       "73           88         218364  3F5CgOj3wFlRv51JsHbxhe  \n",
       "76           85         239359  1bDbXMyjaUIooNwFE9wn0N  \n",
       "131          88         247444  7aqfrAY2p9BUSiupwk3svU  \n",
       "170          89         194786  5wG3HvLhF6Y5KTGlK0IW3J  \n",
       "182          74         222154  337kcYVjYXdLBItCw9ry3b  \n",
       "210          87         157560  0RiRZpuVRbi7oqRdSMwhQY  \n",
       "212          79         231746  39MK3d3fonIP8Mz9oHCTBB  \n",
       "222          80         187541  4Oun2ylbjFKMPTiaSbbCih  \n",
       "224          78         175099  4YQImHflXSiIMXntcwPkx8  \n",
       "242          87         198937  2tTmW7RDtMQtBk7m2rYeSw  \n",
       "270          74         223878  6T7FXSuXykeGktMLGp8WgE  \n",
       "280          96         264324  3w0w2T288dec0mgeZZqoNN  \n",
       "282          93         191700  42VsgItocQwOQC3XWZ8JNA  \n",
       "290          85         145542  78QR3Wp35dqAhFEc2qAGjE  \n",
       "297          77         142417  5MPPttjfGap2C6j6eKcO6J  \n",
       "310          78         212352  5Z9KJZvQzH6PFmb8SNkxuk  \n",
       "331          84         180869  5ZJGv7aGdIr9IGpxzSG18T  \n",
       "341          70         207346  6YbhspuOar1D9WSSnfe7ds  \n",
       "343          77         243490  4dASQiO1Eoo3RJvt74FtXB  \n",
       "352          83         109750  741UUVE2kuITl0c6zuqqbO  \n",
       "422          79         231746  39MK3d3fonIP8Mz9oHCTBB  \n",
       "430          87         233901  3B54sVLJ402zGa6Xm4YGNe  \n",
       "435          44         221863  3fBsEOnzwtlkpS0LxXAZhN  \n",
       "439          68         267720  0nq6sfr8z1R5KJ4XUk396e  "
      ]
     },
     "execution_count": 9,
     "metadata": {},
     "output_type": "execute_result"
    }
   ],
   "source": [
    "df[df.duplicated()]"
   ]
  },
  {
   "cell_type": "code",
   "execution_count": 10,
   "id": "6e47abc2-9782-4b7e-b8e9-7dbca91bb6d2",
   "metadata": {},
   "outputs": [],
   "source": [
    "df.drop_duplicates(inplace=True)"
   ]
  },
  {
   "cell_type": "code",
   "execution_count": 11,
   "id": "7ff52e1d-c98e-470b-9db0-bd1fb0de67fe",
   "metadata": {},
   "outputs": [
    {
     "data": {
      "text/plain": [
       "0"
      ]
     },
     "execution_count": 11,
     "metadata": {},
     "output_type": "execute_result"
    }
   ],
   "source": [
    "df.duplicated().sum()"
   ]
  },
  {
   "cell_type": "code",
   "execution_count": 12,
   "id": "2eadd14f-c833-4d0d-9f59-c288475cb936",
   "metadata": {},
   "outputs": [
    {
     "data": {
      "text/html": [
       "<div>\n",
       "<style scoped>\n",
       "    .dataframe tbody tr th:only-of-type {\n",
       "        vertical-align: middle;\n",
       "    }\n",
       "\n",
       "    .dataframe tbody tr th {\n",
       "        vertical-align: top;\n",
       "    }\n",
       "\n",
       "    .dataframe thead th {\n",
       "        text-align: right;\n",
       "    }\n",
       "</style>\n",
       "<table border=\"1\" class=\"dataframe\">\n",
       "  <thead>\n",
       "    <tr style=\"text-align: right;\">\n",
       "      <th></th>\n",
       "      <th>Popularity</th>\n",
       "      <th>Duration (ms)</th>\n",
       "    </tr>\n",
       "  </thead>\n",
       "  <tbody>\n",
       "    <tr>\n",
       "      <th>count</th>\n",
       "      <td>413.000000</td>\n",
       "      <td>413.000000</td>\n",
       "    </tr>\n",
       "    <tr>\n",
       "      <th>mean</th>\n",
       "      <td>75.384988</td>\n",
       "      <td>206358.496368</td>\n",
       "    </tr>\n",
       "    <tr>\n",
       "      <th>std</th>\n",
       "      <td>9.789010</td>\n",
       "      <td>53980.643666</td>\n",
       "    </tr>\n",
       "    <tr>\n",
       "      <th>min</th>\n",
       "      <td>29.000000</td>\n",
       "      <td>81666.000000</td>\n",
       "    </tr>\n",
       "    <tr>\n",
       "      <th>25%</th>\n",
       "      <td>70.000000</td>\n",
       "      <td>172185.000000</td>\n",
       "    </tr>\n",
       "    <tr>\n",
       "      <th>50%</th>\n",
       "      <td>76.000000</td>\n",
       "      <td>201480.000000</td>\n",
       "    </tr>\n",
       "    <tr>\n",
       "      <th>75%</th>\n",
       "      <td>82.000000</td>\n",
       "      <td>235093.000000</td>\n",
       "    </tr>\n",
       "    <tr>\n",
       "      <th>max</th>\n",
       "      <td>97.000000</td>\n",
       "      <td>501648.000000</td>\n",
       "    </tr>\n",
       "  </tbody>\n",
       "</table>\n",
       "</div>"
      ],
      "text/plain": [
       "       Popularity  Duration (ms)\n",
       "count  413.000000     413.000000\n",
       "mean    75.384988  206358.496368\n",
       "std      9.789010   53980.643666\n",
       "min     29.000000   81666.000000\n",
       "25%     70.000000  172185.000000\n",
       "50%     76.000000  201480.000000\n",
       "75%     82.000000  235093.000000\n",
       "max     97.000000  501648.000000"
      ]
     },
     "execution_count": 12,
     "metadata": {},
     "output_type": "execute_result"
    }
   ],
   "source": [
    "df.describe()"
   ]
  },
  {
   "cell_type": "code",
   "execution_count": 13,
   "id": "6f2b0bc2-342e-4dca-a086-11cc938b44c5",
   "metadata": {},
   "outputs": [
    {
     "data": {
      "text/html": [
       "<div>\n",
       "<style scoped>\n",
       "    .dataframe tbody tr th:only-of-type {\n",
       "        vertical-align: middle;\n",
       "    }\n",
       "\n",
       "    .dataframe tbody tr th {\n",
       "        vertical-align: top;\n",
       "    }\n",
       "\n",
       "    .dataframe thead th {\n",
       "        text-align: right;\n",
       "    }\n",
       "</style>\n",
       "<table border=\"1\" class=\"dataframe\">\n",
       "  <thead>\n",
       "    <tr style=\"text-align: right;\">\n",
       "      <th></th>\n",
       "      <th>Artist</th>\n",
       "      <th>Track Name</th>\n",
       "      <th>Popularity</th>\n",
       "      <th>Duration (ms)</th>\n",
       "      <th>Track ID</th>\n",
       "    </tr>\n",
       "  </thead>\n",
       "  <tbody>\n",
       "    <tr>\n",
       "      <th>345</th>\n",
       "      <td>2 Chainz</td>\n",
       "      <td>We Own It (Fast &amp; Furious)</td>\n",
       "      <td>72</td>\n",
       "      <td>227906</td>\n",
       "      <td>2OQJKTtrH482waGFmOfJni</td>\n",
       "    </tr>\n",
       "  </tbody>\n",
       "</table>\n",
       "</div>"
      ],
      "text/plain": [
       "       Artist                  Track Name  Popularity  Duration (ms)  \\\n",
       "345  2 Chainz  We Own It (Fast & Furious)          72         227906   \n",
       "\n",
       "                   Track ID  \n",
       "345  2OQJKTtrH482waGFmOfJni  "
      ]
     },
     "execution_count": 13,
     "metadata": {},
     "output_type": "execute_result"
    }
   ],
   "source": [
    "df.sample()"
   ]
  },
  {
   "cell_type": "code",
   "execution_count": 14,
   "id": "a3570acc-7d61-4054-89de-547d2875fd16",
   "metadata": {},
   "outputs": [
    {
     "data": {
      "text/plain": [
       "Index(['Artist', 'Track Name', 'Popularity', 'Duration (ms)', 'Track ID'], dtype='object')"
      ]
     },
     "execution_count": 14,
     "metadata": {},
     "output_type": "execute_result"
    }
   ],
   "source": [
    "df.columns"
   ]
  },
  {
   "cell_type": "markdown",
   "id": "a0589d0c-e607-4237-9218-c314f3ad09bd",
   "metadata": {},
   "source": [
    "# 1 - Identify the top 5 popular artists based on the mean popularity of their tracks.Show the mean popularity of tracks for the top 5 popular artists Using BarPlot."
   ]
  },
  {
   "cell_type": "code",
   "execution_count": 15,
   "id": "a4c60222-5fa1-4c06-9ec9-c88f0bb6405d",
   "metadata": {},
   "outputs": [
    {
     "data": {
      "text/html": [
       "<div>\n",
       "<style scoped>\n",
       "    .dataframe tbody tr th:only-of-type {\n",
       "        vertical-align: middle;\n",
       "    }\n",
       "\n",
       "    .dataframe tbody tr th {\n",
       "        vertical-align: top;\n",
       "    }\n",
       "\n",
       "    .dataframe thead th {\n",
       "        text-align: right;\n",
       "    }\n",
       "</style>\n",
       "<table border=\"1\" class=\"dataframe\">\n",
       "  <thead>\n",
       "    <tr style=\"text-align: right;\">\n",
       "      <th></th>\n",
       "      <th>Artist</th>\n",
       "      <th>Track Name</th>\n",
       "      <th>Popularity</th>\n",
       "      <th>Duration (ms)</th>\n",
       "      <th>Track ID</th>\n",
       "    </tr>\n",
       "  </thead>\n",
       "  <tbody>\n",
       "    <tr>\n",
       "      <th>0</th>\n",
       "      <td>Drake</td>\n",
       "      <td>Rich Baby Daddy (feat. Sexyy Red &amp; SZA)</td>\n",
       "      <td>92</td>\n",
       "      <td>319191</td>\n",
       "      <td>1yeB8MUNeLo9Ek1UEpsyz6</td>\n",
       "    </tr>\n",
       "    <tr>\n",
       "      <th>1</th>\n",
       "      <td>Drake</td>\n",
       "      <td>One Dance</td>\n",
       "      <td>91</td>\n",
       "      <td>173986</td>\n",
       "      <td>1zi7xx7UVEFkmKfv06H8x0</td>\n",
       "    </tr>\n",
       "    <tr>\n",
       "      <th>2</th>\n",
       "      <td>Drake</td>\n",
       "      <td>IDGAF (feat. Yeat)</td>\n",
       "      <td>90</td>\n",
       "      <td>260111</td>\n",
       "      <td>2YSzYUF3jWqb9YP9VXmpjE</td>\n",
       "    </tr>\n",
       "  </tbody>\n",
       "</table>\n",
       "</div>"
      ],
      "text/plain": [
       "  Artist                               Track Name  Popularity  Duration (ms)  \\\n",
       "0  Drake  Rich Baby Daddy (feat. Sexyy Red & SZA)          92         319191   \n",
       "1  Drake                                One Dance          91         173986   \n",
       "2  Drake                       IDGAF (feat. Yeat)          90         260111   \n",
       "\n",
       "                 Track ID  \n",
       "0  1yeB8MUNeLo9Ek1UEpsyz6  \n",
       "1  1zi7xx7UVEFkmKfv06H8x0  \n",
       "2  2YSzYUF3jWqb9YP9VXmpjE  "
      ]
     },
     "execution_count": 15,
     "metadata": {},
     "output_type": "execute_result"
    }
   ],
   "source": [
    "df.head(3)"
   ]
  },
  {
   "cell_type": "code",
   "execution_count": 16,
   "id": "7f057c0d-3568-4419-92a4-d0b098203e24",
   "metadata": {},
   "outputs": [
    {
     "data": {
      "text/plain": [
       "Artist\n",
       "cassö           92.000000\n",
       "Trueno          89.000000\n",
       "David Guetta    87.000000\n",
       "Travis Scott    86.555556\n",
       "¥$              85.100000\n",
       "Name: Popularity, dtype: float64"
      ]
     },
     "execution_count": 16,
     "metadata": {},
     "output_type": "execute_result"
    }
   ],
   "source": [
    "top_artists=df.groupby('Artist')['Popularity'].mean().sort_values(ascending=False).head()\n",
    "top_artists"
   ]
  },
  {
   "cell_type": "code",
   "execution_count": 17,
   "id": "8592a0fd-74b5-40c5-8ef8-69e784e11abb",
   "metadata": {},
   "outputs": [
    {
     "data": {
      "image/png": "[encoded data removed]",
      "text/plain": [
       "<Figure size 640x480 with 1 Axes>"
      ]
     },
     "metadata": {},
     "output_type": "display_data"
    }
   ],
   "source": [
    "sns.barplot(top_artists,color='orange')\n",
    "plt.xticks(rotation=45)\n",
    "plt.show()"
   ]
  },
  {
   "cell_type": "markdown",
   "id": "8cd0795a-5d19-4b53-a4a1-c2628469b9a7",
   "metadata": {},
   "source": [
    "# 2 - Determine the top 5 popular songs based on their popularity ratings.Display the popularity ratings of the top 5 popular songs using BarPlot."
   ]
  },
  {
   "cell_type": "code",
   "execution_count": 18,
   "id": "5c76b2dc-e8de-4926-a831-a1d76de5c30d",
   "metadata": {},
   "outputs": [
    {
     "data": {
      "text/html": [
       "<div>\n",
       "<style scoped>\n",
       "    .dataframe tbody tr th:only-of-type {\n",
       "        vertical-align: middle;\n",
       "    }\n",
       "\n",
       "    .dataframe tbody tr th {\n",
       "        vertical-align: top;\n",
       "    }\n",
       "\n",
       "    .dataframe thead th {\n",
       "        text-align: right;\n",
       "    }\n",
       "</style>\n",
       "<table border=\"1\" class=\"dataframe\">\n",
       "  <thead>\n",
       "    <tr style=\"text-align: right;\">\n",
       "      <th></th>\n",
       "      <th>Track Name</th>\n",
       "      <th>Popularity</th>\n",
       "    </tr>\n",
       "  </thead>\n",
       "  <tbody>\n",
       "    <tr>\n",
       "      <th>40</th>\n",
       "      <td>Lovin On Me</td>\n",
       "      <td>97</td>\n",
       "    </tr>\n",
       "    <tr>\n",
       "      <th>70</th>\n",
       "      <td>redrum</td>\n",
       "      <td>96</td>\n",
       "    </tr>\n",
       "    <tr>\n",
       "      <th>260</th>\n",
       "      <td>CARNIVAL</td>\n",
       "      <td>96</td>\n",
       "    </tr>\n",
       "    <tr>\n",
       "      <th>30</th>\n",
       "      <td>FE!N (feat. Playboi Carti)</td>\n",
       "      <td>93</td>\n",
       "    </tr>\n",
       "    <tr>\n",
       "      <th>140</th>\n",
       "      <td>Prada</td>\n",
       "      <td>92</td>\n",
       "    </tr>\n",
       "  </tbody>\n",
       "</table>\n",
       "</div>"
      ],
      "text/plain": [
       "                     Track Name  Popularity\n",
       "40                  Lovin On Me          97\n",
       "70                       redrum          96\n",
       "260                    CARNIVAL          96\n",
       "30   FE!N (feat. Playboi Carti)          93\n",
       "140                       Prada          92"
      ]
     },
     "execution_count": 18,
     "metadata": {},
     "output_type": "execute_result"
    }
   ],
   "source": [
    "top_songs=df[['Track Name','Popularity']].sort_values(by='Popularity',ascending=False).head()\n",
    "top_songs"
   ]
  },
  {
   "cell_type": "code",
   "execution_count": 19,
   "id": "bad0d09e-f0ca-4025-99cf-b377ce74ec16",
   "metadata": {},
   "outputs": [
    {
     "data": {
      "image/png": "[encoded data removed]",
      "text/plain": [
       "<Figure size 600x600 with 1 Axes>"
      ]
     },
     "metadata": {},
     "output_type": "display_data"
    }
   ],
   "source": [
    "plt.figure(figsize=(6,6))\n",
    "plt.bar(top_songs['Track Name'],top_songs['Popularity'],color='lightgreen')\n",
    "plt.xlabel('Track Name')\n",
    "plt.ylabel('Popularity')\n",
    "plt.xticks(rotation=45)\n",
    "plt.show()"
   ]
  },
  {
   "cell_type": "markdown",
   "id": "6b699023-ba6d-4ca0-808e-e6f27d0224e6",
   "metadata": {},
   "source": [
    "# 3 - Find the top 5 trending genres based on the mean popularity of tracks within each genre.Visualize the mean popularity of tracks for the top 5 trending genres."
   ]
  },
  {
   "cell_type": "markdown",
   "id": "3c0d605f-1194-4a71-bc8a-e4057e28b000",
   "metadata": {},
   "source": [
    "### Data not provided in dataset"
   ]
  },
  {
   "cell_type": "markdown",
   "id": "6a355115-9c29-4cf1-8dfa-953a22a6d4ee",
   "metadata": {},
   "source": [
    "# 4 - Identify the top 5 longest songs among the tracks of the top 5 popular artists.Represent the duration of the top 5 longest songs among the tracks of the top 5 popular artists using BarPlot."
   ]
  },
  {
   "cell_type": "code",
   "execution_count": 20,
   "id": "4077b0ca-1921-40ca-97d0-8a68a862b681",
   "metadata": {},
   "outputs": [
    {
     "data": {
      "text/plain": [
       "Index(['Artist', 'Track Name', 'Popularity', 'Duration (ms)', 'Track ID'], dtype='object')"
      ]
     },
     "execution_count": 20,
     "metadata": {},
     "output_type": "execute_result"
    }
   ],
   "source": [
    "df.columns"
   ]
  },
  {
   "cell_type": "code",
   "execution_count": 21,
   "id": "26769cae-8528-4f6d-9096-b3dd0471d343",
   "metadata": {},
   "outputs": [
    {
     "data": {
      "text/plain": [
       "['cassö', 'Trueno', 'David Guetta', 'Travis Scott', '¥$']"
      ]
     },
     "execution_count": 21,
     "metadata": {},
     "output_type": "execute_result"
    }
   ],
   "source": [
    "top_artists_list=top_artists.index.tolist()\n",
    "top_artists_list"
   ]
  },
  {
   "cell_type": "code",
   "execution_count": 22,
   "id": "1069f9cb-162a-4af4-ac65-eee4f22fa547",
   "metadata": {},
   "outputs": [
    {
     "data": {
      "text/html": [
       "<div>\n",
       "<style scoped>\n",
       "    .dataframe tbody tr th:only-of-type {\n",
       "        vertical-align: middle;\n",
       "    }\n",
       "\n",
       "    .dataframe tbody tr th {\n",
       "        vertical-align: top;\n",
       "    }\n",
       "\n",
       "    .dataframe thead th {\n",
       "        text-align: right;\n",
       "    }\n",
       "</style>\n",
       "<table border=\"1\" class=\"dataframe\">\n",
       "  <thead>\n",
       "    <tr style=\"text-align: right;\">\n",
       "      <th></th>\n",
       "      <th>Artist</th>\n",
       "      <th>Track Name</th>\n",
       "      <th>Popularity</th>\n",
       "      <th>Duration (ms)</th>\n",
       "      <th>Track ID</th>\n",
       "    </tr>\n",
       "  </thead>\n",
       "  <tbody>\n",
       "    <tr>\n",
       "      <th>7</th>\n",
       "      <td>Travis Scott</td>\n",
       "      <td>MELTDOWN (feat. Drake)</td>\n",
       "      <td>86</td>\n",
       "      <td>246133</td>\n",
       "      <td>67nepsnrcZkowTxMWigSbb</td>\n",
       "    </tr>\n",
       "    <tr>\n",
       "      <th>30</th>\n",
       "      <td>Travis Scott</td>\n",
       "      <td>FE!N (feat. Playboi Carti)</td>\n",
       "      <td>93</td>\n",
       "      <td>191700</td>\n",
       "      <td>42VsgItocQwOQC3XWZ8JNA</td>\n",
       "    </tr>\n",
       "    <tr>\n",
       "      <th>31</th>\n",
       "      <td>Travis Scott</td>\n",
       "      <td>I KNOW ?</td>\n",
       "      <td>92</td>\n",
       "      <td>211582</td>\n",
       "      <td>6wsqVwoiVH2kde4k4KKAFU</td>\n",
       "    </tr>\n",
       "    <tr>\n",
       "      <th>32</th>\n",
       "      <td>Travis Scott</td>\n",
       "      <td>MY EYES</td>\n",
       "      <td>91</td>\n",
       "      <td>251249</td>\n",
       "      <td>4kjI1gwQZRKNDkw1nI475M</td>\n",
       "    </tr>\n",
       "    <tr>\n",
       "      <th>33</th>\n",
       "      <td>Travis Scott</td>\n",
       "      <td>goosebumps</td>\n",
       "      <td>89</td>\n",
       "      <td>243836</td>\n",
       "      <td>6gBFPUFcJLzWGx4lenP6h2</td>\n",
       "    </tr>\n",
       "    <tr>\n",
       "      <th>37</th>\n",
       "      <td>Travis Scott</td>\n",
       "      <td>SICKO MODE</td>\n",
       "      <td>87</td>\n",
       "      <td>312820</td>\n",
       "      <td>2xLMifQCjDGFmkHkpNLD9h</td>\n",
       "    </tr>\n",
       "    <tr>\n",
       "      <th>38</th>\n",
       "      <td>Travis Scott</td>\n",
       "      <td>TELEKINESIS (feat. SZA &amp; Future)</td>\n",
       "      <td>86</td>\n",
       "      <td>353754</td>\n",
       "      <td>1i9lZvlaDdWDPyXEE95aiq</td>\n",
       "    </tr>\n",
       "    <tr>\n",
       "      <th>140</th>\n",
       "      <td>cassö</td>\n",
       "      <td>Prada</td>\n",
       "      <td>92</td>\n",
       "      <td>132359</td>\n",
       "      <td>59NraMJsLaMCVtwXTSia8i</td>\n",
       "    </tr>\n",
       "    <tr>\n",
       "      <th>173</th>\n",
       "      <td>Travis Scott</td>\n",
       "      <td>SKITZO (feat. Young Thug)</td>\n",
       "      <td>78</td>\n",
       "      <td>366592</td>\n",
       "      <td>0bkV1iQHSxBaksUqgEkcbc</td>\n",
       "    </tr>\n",
       "    <tr>\n",
       "      <th>200</th>\n",
       "      <td>David Guetta</td>\n",
       "      <td>Baby Don't Hurt Me</td>\n",
       "      <td>87</td>\n",
       "      <td>140017</td>\n",
       "      <td>3BKD1PwArikchz2Zrlp1qi</td>\n",
       "    </tr>\n",
       "    <tr>\n",
       "      <th>215</th>\n",
       "      <td>Travis Scott</td>\n",
       "      <td>CIRCUS MAXIMUS (feat. The Weeknd &amp; Swae Lee)</td>\n",
       "      <td>77</td>\n",
       "      <td>258842</td>\n",
       "      <td>4GL9GMX9t7Qkprvf1YighZ</td>\n",
       "    </tr>\n",
       "    <tr>\n",
       "      <th>241</th>\n",
       "      <td>Trueno</td>\n",
       "      <td>Mamichula - con Nicki Nicole</td>\n",
       "      <td>89</td>\n",
       "      <td>219201</td>\n",
       "      <td>0TUW9faHNaBmi89wsYGp9y</td>\n",
       "    </tr>\n",
       "    <tr>\n",
       "      <th>260</th>\n",
       "      <td>¥$</td>\n",
       "      <td>CARNIVAL</td>\n",
       "      <td>96</td>\n",
       "      <td>264324</td>\n",
       "      <td>3w0w2T288dec0mgeZZqoNN</td>\n",
       "    </tr>\n",
       "    <tr>\n",
       "      <th>261</th>\n",
       "      <td>¥$</td>\n",
       "      <td>BURN</td>\n",
       "      <td>89</td>\n",
       "      <td>111458</td>\n",
       "      <td>04CyMEHliadfQWMUJb1w99</td>\n",
       "    </tr>\n",
       "    <tr>\n",
       "      <th>262</th>\n",
       "      <td>¥$</td>\n",
       "      <td>FUK SUMN</td>\n",
       "      <td>88</td>\n",
       "      <td>209577</td>\n",
       "      <td>5tEaVciE2GnR28aN6W9cLS</td>\n",
       "    </tr>\n",
       "    <tr>\n",
       "      <th>263</th>\n",
       "      <td>¥$</td>\n",
       "      <td>BACK TO ME</td>\n",
       "      <td>86</td>\n",
       "      <td>295471</td>\n",
       "      <td>1icgLGTpX2fQXKRe4D7w2b</td>\n",
       "    </tr>\n",
       "    <tr>\n",
       "      <th>264</th>\n",
       "      <td>¥$</td>\n",
       "      <td>STARS</td>\n",
       "      <td>84</td>\n",
       "      <td>115238</td>\n",
       "      <td>347AQK5Lyhn6RvB8tBGYxt</td>\n",
       "    </tr>\n",
       "    <tr>\n",
       "      <th>265</th>\n",
       "      <td>¥$</td>\n",
       "      <td>DO IT</td>\n",
       "      <td>83</td>\n",
       "      <td>225000</td>\n",
       "      <td>2iGvsJuc2mC4mDVOVMNAP6</td>\n",
       "    </tr>\n",
       "    <tr>\n",
       "      <th>266</th>\n",
       "      <td>¥$</td>\n",
       "      <td>TALKING</td>\n",
       "      <td>81</td>\n",
       "      <td>185110</td>\n",
       "      <td>1eaqMiiUn2P7MnqJK4XeK0</td>\n",
       "    </tr>\n",
       "    <tr>\n",
       "      <th>267</th>\n",
       "      <td>¥$</td>\n",
       "      <td>PAID</td>\n",
       "      <td>82</td>\n",
       "      <td>195117</td>\n",
       "      <td>2y4ZR0BUAVePljHSsZyIgj</td>\n",
       "    </tr>\n",
       "    <tr>\n",
       "      <th>268</th>\n",
       "      <td>¥$</td>\n",
       "      <td>PAPERWORK</td>\n",
       "      <td>82</td>\n",
       "      <td>145785</td>\n",
       "      <td>2yyO7EKRr7c3txi4xCXUFk</td>\n",
       "    </tr>\n",
       "    <tr>\n",
       "      <th>269</th>\n",
       "      <td>¥$</td>\n",
       "      <td>VULTURES</td>\n",
       "      <td>80</td>\n",
       "      <td>276986</td>\n",
       "      <td>3SIRBp4RRQ2AO5H4NO7xfq</td>\n",
       "    </tr>\n",
       "  </tbody>\n",
       "</table>\n",
       "</div>"
      ],
      "text/plain": [
       "           Artist                                    Track Name  Popularity  \\\n",
       "7    Travis Scott                        MELTDOWN (feat. Drake)          86   \n",
       "30   Travis Scott                    FE!N (feat. Playboi Carti)          93   \n",
       "31   Travis Scott                                      I KNOW ?          92   \n",
       "32   Travis Scott                                       MY EYES          91   \n",
       "33   Travis Scott                                    goosebumps          89   \n",
       "37   Travis Scott                                    SICKO MODE          87   \n",
       "38   Travis Scott              TELEKINESIS (feat. SZA & Future)          86   \n",
       "140         cassö                                         Prada          92   \n",
       "173  Travis Scott                     SKITZO (feat. Young Thug)          78   \n",
       "200  David Guetta                            Baby Don't Hurt Me          87   \n",
       "215  Travis Scott  CIRCUS MAXIMUS (feat. The Weeknd & Swae Lee)          77   \n",
       "241        Trueno                  Mamichula - con Nicki Nicole          89   \n",
       "260            ¥$                                      CARNIVAL          96   \n",
       "261            ¥$                                          BURN          89   \n",
       "262            ¥$                                      FUK SUMN          88   \n",
       "263            ¥$                                    BACK TO ME          86   \n",
       "264            ¥$                                         STARS          84   \n",
       "265            ¥$                                         DO IT          83   \n",
       "266            ¥$                                       TALKING          81   \n",
       "267            ¥$                                          PAID          82   \n",
       "268            ¥$                                     PAPERWORK          82   \n",
       "269            ¥$                                      VULTURES          80   \n",
       "\n",
       "     Duration (ms)                Track ID  \n",
       "7           246133  67nepsnrcZkowTxMWigSbb  \n",
       "30          191700  42VsgItocQwOQC3XWZ8JNA  \n",
       "31          211582  6wsqVwoiVH2kde4k4KKAFU  \n",
       "32          251249  4kjI1gwQZRKNDkw1nI475M  \n",
       "33          243836  6gBFPUFcJLzWGx4lenP6h2  \n",
       "37          312820  2xLMifQCjDGFmkHkpNLD9h  \n",
       "38          353754  1i9lZvlaDdWDPyXEE95aiq  \n",
       "140         132359  59NraMJsLaMCVtwXTSia8i  \n",
       "173         366592  0bkV1iQHSxBaksUqgEkcbc  \n",
       "200         140017  3BKD1PwArikchz2Zrlp1qi  \n",
       "215         258842  4GL9GMX9t7Qkprvf1YighZ  \n",
       "241         219201  0TUW9faHNaBmi89wsYGp9y  \n",
       "260         264324  3w0w2T288dec0mgeZZqoNN  \n",
       "261         111458  04CyMEHliadfQWMUJb1w99  \n",
       "262         209577  5tEaVciE2GnR28aN6W9cLS  \n",
       "263         295471  1icgLGTpX2fQXKRe4D7w2b  \n",
       "264         115238  347AQK5Lyhn6RvB8tBGYxt  \n",
       "265         225000  2iGvsJuc2mC4mDVOVMNAP6  \n",
       "266         185110  1eaqMiiUn2P7MnqJK4XeK0  \n",
       "267         195117  2y4ZR0BUAVePljHSsZyIgj  \n",
       "268         145785  2yyO7EKRr7c3txi4xCXUFk  \n",
       "269         276986  3SIRBp4RRQ2AO5H4NO7xfq  "
      ]
     },
     "execution_count": 22,
     "metadata": {},
     "output_type": "execute_result"
    }
   ],
   "source": [
    "filtered_data=df[df['Artist'].isin(top_artists_list)]\n",
    "filtered_data"
   ]
  },
  {
   "cell_type": "code",
   "execution_count": 23,
   "id": "066f2d51-00d4-4ee3-b618-d4b2a90b1ac6",
   "metadata": {},
   "outputs": [
    {
     "data": {
      "text/html": [
       "<div>\n",
       "<style scoped>\n",
       "    .dataframe tbody tr th:only-of-type {\n",
       "        vertical-align: middle;\n",
       "    }\n",
       "\n",
       "    .dataframe tbody tr th {\n",
       "        vertical-align: top;\n",
       "    }\n",
       "\n",
       "    .dataframe thead th {\n",
       "        text-align: right;\n",
       "    }\n",
       "</style>\n",
       "<table border=\"1\" class=\"dataframe\">\n",
       "  <thead>\n",
       "    <tr style=\"text-align: right;\">\n",
       "      <th></th>\n",
       "      <th>Artist</th>\n",
       "      <th>Track Name</th>\n",
       "      <th>Popularity</th>\n",
       "      <th>Duration (ms)</th>\n",
       "      <th>Track ID</th>\n",
       "    </tr>\n",
       "  </thead>\n",
       "  <tbody>\n",
       "    <tr>\n",
       "      <th>173</th>\n",
       "      <td>Travis Scott</td>\n",
       "      <td>SKITZO (feat. Young Thug)</td>\n",
       "      <td>78</td>\n",
       "      <td>366592</td>\n",
       "      <td>0bkV1iQHSxBaksUqgEkcbc</td>\n",
       "    </tr>\n",
       "    <tr>\n",
       "      <th>38</th>\n",
       "      <td>Travis Scott</td>\n",
       "      <td>TELEKINESIS (feat. SZA &amp; Future)</td>\n",
       "      <td>86</td>\n",
       "      <td>353754</td>\n",
       "      <td>1i9lZvlaDdWDPyXEE95aiq</td>\n",
       "    </tr>\n",
       "    <tr>\n",
       "      <th>37</th>\n",
       "      <td>Travis Scott</td>\n",
       "      <td>SICKO MODE</td>\n",
       "      <td>87</td>\n",
       "      <td>312820</td>\n",
       "      <td>2xLMifQCjDGFmkHkpNLD9h</td>\n",
       "    </tr>\n",
       "    <tr>\n",
       "      <th>263</th>\n",
       "      <td>¥$</td>\n",
       "      <td>BACK TO ME</td>\n",
       "      <td>86</td>\n",
       "      <td>295471</td>\n",
       "      <td>1icgLGTpX2fQXKRe4D7w2b</td>\n",
       "    </tr>\n",
       "    <tr>\n",
       "      <th>269</th>\n",
       "      <td>¥$</td>\n",
       "      <td>VULTURES</td>\n",
       "      <td>80</td>\n",
       "      <td>276986</td>\n",
       "      <td>3SIRBp4RRQ2AO5H4NO7xfq</td>\n",
       "    </tr>\n",
       "  </tbody>\n",
       "</table>\n",
       "</div>"
      ],
      "text/plain": [
       "           Artist                        Track Name  Popularity  \\\n",
       "173  Travis Scott         SKITZO (feat. Young Thug)          78   \n",
       "38   Travis Scott  TELEKINESIS (feat. SZA & Future)          86   \n",
       "37   Travis Scott                        SICKO MODE          87   \n",
       "263            ¥$                        BACK TO ME          86   \n",
       "269            ¥$                          VULTURES          80   \n",
       "\n",
       "     Duration (ms)                Track ID  \n",
       "173         366592  0bkV1iQHSxBaksUqgEkcbc  \n",
       "38          353754  1i9lZvlaDdWDPyXEE95aiq  \n",
       "37          312820  2xLMifQCjDGFmkHkpNLD9h  \n",
       "263         295471  1icgLGTpX2fQXKRe4D7w2b  \n",
       "269         276986  3SIRBp4RRQ2AO5H4NO7xfq  "
      ]
     },
     "execution_count": 23,
     "metadata": {},
     "output_type": "execute_result"
    }
   ],
   "source": [
    "top_longest_songs=filtered_data.sort_values(by='Duration (ms)', ascending=False).head()\n",
    "top_longest_songs"
   ]
  },
  {
   "cell_type": "code",
   "execution_count": 24,
   "id": "741da1a2-fb05-40e2-a175-6d18d0630e15",
   "metadata": {},
   "outputs": [
    {
     "data": {
      "image/png": "[encoded data removed]",
      "text/plain": [
       "<Figure size 640x480 with 1 Axes>"
      ]
     },
     "metadata": {},
     "output_type": "display_data"
    }
   ],
   "source": [
    "sns.barplot(data=top_longest_songs,x='Track Name',y='Duration (ms)',color='lightblue')\n",
    "plt.xticks(rotation=45)\n",
    "plt.show()"
   ]
  },
  {
   "cell_type": "markdown",
   "id": "5559d462-91b6-4eb3-bad0-489d2d5d3d8d",
   "metadata": {},
   "source": [
    "# 5 - Determine the top 5 most danceable songs based on their danceability scores.Illustrate the danceability scores of the top 5 most danceable songs using PieChart."
   ]
  },
  {
   "cell_type": "markdown",
   "id": "df555678-30bb-49bb-98d6-6669b14cc8b6",
   "metadata": {},
   "source": [
    "### Data not provided in dataset"
   ]
  }
 ],
 "metadata": {
  "kernelspec": {
   "display_name": "Python 3 (ipykernel)",
   "language": "python",
   "name": "python3"
  },
  "language_info": {
   "codemirror_mode": {
    "name": "ipython",
    "version": 3
   },
   "file_extension": ".py",
   "mimetype": "text/x-python",
   "name": "python",
   "nbconvert_exporter": "python",
   "pygments_lexer": "ipython3",
   "version": "3.11.6"
  }
 },
 "nbformat": 4,
 "nbformat_minor": 5
}
