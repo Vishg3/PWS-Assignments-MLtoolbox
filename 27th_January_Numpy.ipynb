{
 "cells": [
  {
   "cell_type": "markdown",
   "id": "62ec76f1-a38d-4eb2-9c50-eaff96556e9d",
   "metadata": {},
   "source": [
    "# Assignment - Numpy"
   ]
  },
  {
   "cell_type": "code",
   "execution_count": 1,
   "id": "7c151750-bebe-48bb-b801-c49a52ab56e6",
   "metadata": {},
   "outputs": [],
   "source": [
    "#1\n",
    "#A Python library is a collection of pre-written code and functionalities that can be imported and used in Python programs to perform specific tasks. \n",
    "#We use Python libraries to leverage existing solutions, saving time and effort by avoiding the need to reinvent the wheel for common programming tasks."
   ]
  },
  {
   "cell_type": "code",
   "execution_count": 2,
   "id": "545f13d6-9e15-4193-8800-79247b41c3a7",
   "metadata": {},
   "outputs": [],
   "source": [
    "#2\n",
    "#Numpy arrays are homogeneous data structures, meaning they store elements of the same data type, and offer more efficient computation and storage due \n",
    "#to their fixed size and pre-allocated memory. Lists, on the other hand, are heterogeneous and can contain elements of different data types, but they \n",
    "#are less efficient for numerical computations and lack many of the specialized operations available in Numpy arrays."
   ]
  },
  {
   "cell_type": "code",
   "execution_count": 3,
   "id": "1102617a-c532-430d-923b-02d5a81905fb",
   "metadata": {},
   "outputs": [],
   "source": [
    "#3\n",
    "#Shape: 3 rows, 4 columns\n",
    "#Size: 3 * 4 = 12 elements\n",
    "#Dimension: 2 dimensions"
   ]
  },
  {
   "cell_type": "code",
   "execution_count": 13,
   "id": "be250414-4040-4026-ba0e-ec8b45240f84",
   "metadata": {},
   "outputs": [
    {
     "name": "stdout",
     "output_type": "stream",
     "text": [
      "[1, 2, 3, 4]\n"
     ]
    }
   ],
   "source": [
    "#4\n",
    "arr=[[1, 2, 3, 4],\n",
    "[5, 6, 7, 8],\n",
    "[9, 10, 11, 12]]\n",
    "first_row=arr[0]\n",
    "print(first_row)"
   ]
  },
  {
   "cell_type": "code",
   "execution_count": 10,
   "id": "1c053e2d-a036-411e-9372-bdddba304422",
   "metadata": {},
   "outputs": [
    {
     "name": "stdout",
     "output_type": "stream",
     "text": [
      "12\n"
     ]
    }
   ],
   "source": [
    "#5\n",
    "import numpy as np\n",
    "arr=[[1, 2, 3, 4],\n",
    "[5, 6, 7, 8],\n",
    "[9, 10, 11, 12]]\n",
    "arr=np.array(arr)\n",
    "element=arr[2,3]\n",
    "print(element)"
   ]
  },
  {
   "cell_type": "code",
   "execution_count": 16,
   "id": "b8030a06-e719-4376-a42a-e2c3fb469d75",
   "metadata": {},
   "outputs": [
    {
     "name": "stdout",
     "output_type": "stream",
     "text": [
      "[[6 8]]\n"
     ]
    }
   ],
   "source": [
    "#6\n",
    "import numpy as np\n",
    "arr=[[1, 2, 3, 4],\n",
    "[5, 6, 7, 8],\n",
    "[9, 10, 11, 12]]\n",
    "arr=np.array(arr)\n",
    "odd_indexed=arr[1::2,1::2]\n",
    "print(odd_indexed)"
   ]
  },
  {
   "cell_type": "code",
   "execution_count": 2,
   "id": "f88e8472-dad1-494a-a85f-495f204b03cd",
   "metadata": {},
   "outputs": [
    {
     "data": {
      "text/plain": [
       "array([[0.77259386, 0.7590355 , 0.88846463],\n",
       "       [0.18150352, 0.49229306, 0.9990882 ],\n",
       "       [0.37648282, 0.93509788, 0.03418017]])"
      ]
     },
     "execution_count": 2,
     "metadata": {},
     "output_type": "execute_result"
    }
   ],
   "source": [
    "#7\n",
    "import numpy as np\n",
    "np.random.random((3,3))"
   ]
  },
  {
   "cell_type": "code",
   "execution_count": 3,
   "id": "b67f5f27-e246-4128-ae68-2e4c5e9b3b23",
   "metadata": {},
   "outputs": [],
   "source": [
    "#8\n",
    "#`np.random.rand` generates an array of specified shape with random values uniformly distributed between 0 and 1. `np.random.randn` generates an array of \n",
    "#specified shape with random values drawn from a standard normal distribution (mean=0, standard deviation=1)."
   ]
  },
  {
   "cell_type": "code",
   "execution_count": 5,
   "id": "92bdbe89-2723-4167-8aa2-03df10fe1333",
   "metadata": {},
   "outputs": [
    {
     "data": {
      "text/plain": [
       "array([[[ 1],\n",
       "        [ 2],\n",
       "        [ 3],\n",
       "        [ 4]],\n",
       "\n",
       "       [[ 5],\n",
       "        [ 6],\n",
       "        [ 7],\n",
       "        [ 8]],\n",
       "\n",
       "       [[ 9],\n",
       "        [10],\n",
       "        [11],\n",
       "        [12]]])"
      ]
     },
     "execution_count": 5,
     "metadata": {},
     "output_type": "execute_result"
    }
   ],
   "source": [
    "#9\n",
    "import numpy as np\n",
    "arr=[[1, 2, 3, 4],\n",
    "[5, 6, 7, 8],\n",
    "[9, 10, 11, 12]]\n",
    "arr=np.array(arr)\n",
    "np.expand_dims(arr,axis=2)"
   ]
  },
  {
   "cell_type": "code",
   "execution_count": 6,
   "id": "99606d68-2bae-4dc9-83b2-1dabeb17ca53",
   "metadata": {},
   "outputs": [
    {
     "data": {
      "text/plain": [
       "array([[ 1,  5,  9],\n",
       "       [ 2,  6, 10],\n",
       "       [ 3,  7, 11],\n",
       "       [ 4,  8, 12]])"
      ]
     },
     "execution_count": 6,
     "metadata": {},
     "output_type": "execute_result"
    }
   ],
   "source": [
    "#10\n",
    "import numpy as np\n",
    "arr=[[1, 2, 3, 4],\n",
    "[5, 6, 7, 8],\n",
    "[9, 10, 11, 12]]\n",
    "arr=np.array(arr)\n",
    "arr.T"
   ]
  },
  {
   "cell_type": "code",
   "execution_count": 10,
   "id": "e5c705ce-e557-41e9-9487-6514489b0f54",
   "metadata": {},
   "outputs": [],
   "source": [
    "#11\n",
    "import numpy as np\n",
    "Matrix_A=np.array([[1, 2, 3, 4], [5, 6, 7, 8],[9, 10, 11, 12]])\n",
    "Matrix_B=np.array([[1, 2, 3, 4], [5, 6, 7, 8],[9, 10, 11, 12]])"
   ]
  },
  {
   "cell_type": "code",
   "execution_count": 11,
   "id": "3b18e0a2-4da8-43b8-b4f5-e6a90304ce8f",
   "metadata": {},
   "outputs": [
    {
     "data": {
      "text/plain": [
       "array([[  1,   4,   9,  16],\n",
       "       [ 25,  36,  49,  64],\n",
       "       [ 81, 100, 121, 144]])"
      ]
     },
     "execution_count": 11,
     "metadata": {},
     "output_type": "execute_result"
    }
   ],
   "source": [
    "#11.1\n",
    "Matrix_A*Matrix_B"
   ]
  },
  {
   "cell_type": "code",
   "execution_count": 14,
   "id": "b681bc14-8769-4746-9015-c765bdee5a87",
   "metadata": {},
   "outputs": [
    {
     "data": {
      "text/plain": [
       "array([[ 30,  70, 110],\n",
       "       [ 70, 174, 278],\n",
       "       [110, 278, 446]])"
      ]
     },
     "execution_count": 14,
     "metadata": {},
     "output_type": "execute_result"
    }
   ],
   "source": [
    "#11.2\n",
    "Matrix_A@Matrix_B.T"
   ]
  },
  {
   "cell_type": "code",
   "execution_count": 15,
   "id": "3f216a1b-5c92-45e5-9822-54738b5852e4",
   "metadata": {},
   "outputs": [
    {
     "data": {
      "text/plain": [
       "array([[ 2,  4,  6,  8],\n",
       "       [10, 12, 14, 16],\n",
       "       [18, 20, 22, 24]])"
      ]
     },
     "execution_count": 15,
     "metadata": {},
     "output_type": "execute_result"
    }
   ],
   "source": [
    "#11.3\n",
    "Matrix_A+Matrix_B"
   ]
  },
  {
   "cell_type": "code",
   "execution_count": 16,
   "id": "440d684d-ab8c-437e-a427-85c2a33dfde5",
   "metadata": {},
   "outputs": [
    {
     "data": {
      "text/plain": [
       "array([[0, 0, 0, 0],\n",
       "       [0, 0, 0, 0],\n",
       "       [0, 0, 0, 0]])"
      ]
     },
     "execution_count": 16,
     "metadata": {},
     "output_type": "execute_result"
    }
   ],
   "source": [
    "#11.4\n",
    "Matrix_A-Matrix_B"
   ]
  },
  {
   "cell_type": "code",
   "execution_count": 17,
   "id": "39569246-d420-483b-9dca-6896fd570987",
   "metadata": {},
   "outputs": [
    {
     "data": {
      "text/plain": [
       "array([[1., 1., 1., 1.],\n",
       "       [1., 1., 1., 1.],\n",
       "       [1., 1., 1., 1.]])"
      ]
     },
     "execution_count": 17,
     "metadata": {},
     "output_type": "execute_result"
    }
   ],
   "source": [
    "#11.5\n",
    "Matrix_B/Matrix_A"
   ]
  },
  {
   "cell_type": "code",
   "execution_count": 18,
   "id": "543fc43b-a05a-42c3-b434-cf3409130147",
   "metadata": {},
   "outputs": [],
   "source": [
    "#12\n",
    "#The `byteswap()` function in NumPy can be used to swap the byte order of an array."
   ]
  },
  {
   "cell_type": "code",
   "execution_count": 19,
   "id": "7595a535-c63c-4932-ad72-5778a98a0bdf",
   "metadata": {},
   "outputs": [],
   "source": [
    "#13\n",
    "#The `np.linalg.inv` function in NumPy calculates the inverse of a square matrix. It's significant because it allows for solving systems of linear \n",
    "#equations, matrix equations, and finding solutions to various mathematical problems involving matrices, such as least squares regression and eigenvalue problems."
   ]
  },
  {
   "cell_type": "code",
   "execution_count": 23,
   "id": "d4e15996-46b9-48de-91d3-d969091fc7c2",
   "metadata": {},
   "outputs": [
    {
     "name": "stdout",
     "output_type": "stream",
     "text": [
      "Original array:\n",
      "[1 2 3 4 5 6]\n",
      "Reshaped array:\n",
      "[[1 2 3]\n",
      " [4 5 6]]\n"
     ]
    }
   ],
   "source": [
    "#14\n",
    "#The `np.reshape` function in NumPy is used to change the shape of an array without changing its data. It allows you to rearrange the elements of the \n",
    "#array into a new shape specified by the user, as long as the total number of elements remains constant.\n",
    "\n",
    "#Usage:\n",
    "\n",
    "import numpy as np\n",
    "arr=np.array([1, 2, 3, 4, 5, 6])\n",
    "reshaped_arr=np.reshape(arr, (2, 3))\n",
    "print(\"Original array:\")\n",
    "print(arr)\n",
    "print(\"Reshaped array:\")\n",
    "print(reshaped_arr)"
   ]
  },
  {
   "cell_type": "code",
   "execution_count": 24,
   "id": "4b45a5f4-8126-4b53-88e2-05d7b8ceec09",
   "metadata": {},
   "outputs": [],
   "source": [
    "#15\n",
    "#Broadcasting in NumPy is a mechanism that allows arrays of different shapes to be combined in arithmetic operations. It automatically aligns dimensions \n",
    "#of arrays when performing element-wise operations, making computations more efficient and concise."
   ]
  }
 ],
 "metadata": {
  "kernelspec": {
   "display_name": "Python 3 (ipykernel)",
   "language": "python",
   "name": "python3"
  },
  "language_info": {
   "codemirror_mode": {
    "name": "ipython",
    "version": 3
   },
   "file_extension": ".py",
   "mimetype": "text/x-python",
   "name": "python",
   "nbconvert_exporter": "python",
   "pygments_lexer": "ipython3",
   "version": "3.11.6"
  }
 },
 "nbformat": 4,
 "nbformat_minor": 5
}
